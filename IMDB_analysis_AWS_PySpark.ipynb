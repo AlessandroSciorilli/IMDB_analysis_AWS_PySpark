{
 "cells": [
  {
   "cell_type": "markdown",
   "id": "73bc9548",
   "metadata": {
    "tags": []
   },
   "source": [
    "# Analysis of IMDB Data"
   ]
  },
  {
   "cell_type": "markdown",
   "id": "4b3da555",
   "metadata": {},
   "source": [
    "We will analyze a subset of IMDB's actors, genres, movie actors, and movie ratings data. This dataset comes to us from Kaggle (https://www.kaggle.com/datasets/ashirwadsangwan/imdb-dataset) although we have taken steps to pull this data into a publis s3 bucket: \n",
    "\n",
    "* s3://cis9760-lecture9-movieanalysis/name.basics.tsv ---> (actors)\n",
    "* s3://cis9760-lecture9-movieanalysis/title.basics.tsv ---> (genres)\n",
    "* s3://cis9760-lecture9-movieanalysis/title.principals.tsv ---> (movie actors)\n",
    "* s3://cis9760-lecture9-movieanalysis/title.ratings.tsv ---> (movie ratings)"
   ]
  },
  {
   "cell_type": "markdown",
   "id": "bfb57a80",
   "metadata": {},
   "source": [
    "# Content\n",
    "\n",
    "**<br />name.basics.tsv.gz – Contains the following information for names:**\n",
    "<br />nconst (string) - alphanumeric unique identifier of the name/person.\n",
    "<br />primaryName (string)– name by which the person is most often credited.\n",
    "<br />birthYear – in YYYY format.\n",
    "<br />deathYear – in YYYY format if applicable, else .\n",
    "<br />primaryProfession (array of strings)– the top-3 professions of the person.\n",
    "<br />knownForTitles (array of tconsts) – titles the person is known for.\n",
    "<br/><br/>\n",
    "**<br />title.basics.tsv.gz - Contains the following information for titles:**\n",
    "<br />tconst (string) - alphanumeric unique identifier of the title.\n",
    "<br />titleType (string) – the type/format of the title (e.g. movie, short, tvseries, tvepisode, video, etc).\n",
    "<br />primaryTitle (string) – the more popular title / the title used by the filmmakers on promotional materials at the point of release.\n",
    "<br />originalTitle (string) - original title, in the original language.\n",
    "<br />isAdult (boolean) - 0: non-adult title; 1: adult title.\n",
    "<br />startYear (YYYY) – represents the release year of a title. In the case of TV Series, it is the series start year.\n",
    "<br />endYear (YYYY) – TV Series end year. for all other title types.\n",
    "<br />runtimeMinutes – primary runtime of the title, in minutes.\n",
    "<br />genres (string array) – includes up to three genres associated with the title.\n",
    "<br/><br/>\n",
    "**<br />title.principals.tsv – Contains the principal cast/crew for titles:**\n",
    "<br />tconst (string) - alphanumeric unique identifier of the title.\n",
    "<br />ordering (integer) – a number to uniquely identify rows for a given titleId.\n",
    "<br />nconst (string) - alphanumeric unique identifier of the name/person.\n",
    "<br />category (string) - the category of job that person was in.\n",
    "<br />job (string) - the specific job title if applicable, else.\n",
    "<br />characters (string) - the name of the character played if applicable, else.\n",
    "<br/><br/>\n",
    "**<br />title.ratings.tsv.gz – Contains the IMDb rating and votes information for titles:**\n",
    "<br />tconst (string) - alphanumeric unique identifier of the title.\n",
    "<br />averageRating – weighted average of all the individual user ratings.\n",
    "<br />numVotes - number of votes the title has received."
   ]
  },
  {
   "cell_type": "markdown",
   "id": "0a6597bc",
   "metadata": {},
   "source": [
    "# PART 1 - Installation and Initial Setup"
   ]
  },
  {
   "cell_type": "markdown",
   "id": "ef17e1b3",
   "metadata": {},
   "source": [
    "Begin by installing the necessary libraries that you may need to conduct your analysis. At the very least, you must install pandas and matplotlib"
   ]
  },
  {
   "cell_type": "code",
   "execution_count": 1,
   "id": "5a20c821",
   "metadata": {
    "execution": {
     "iopub.execute_input": "2023-12-01T08:54:57.273916Z",
     "iopub.status.busy": "2023-12-01T08:54:57.273443Z",
     "iopub.status.idle": "2023-12-01T08:54:57.293088Z",
     "shell.execute_reply": "2023-12-01T08:54:57.292259Z",
     "shell.execute_reply.started": "2023-12-01T08:54:57.273880Z"
    },
    "tags": []
   },
   "outputs": [
    {
     "data": {
      "text/html": [
       "Current session configs: <tt>{'proxyUser': 'user_EMR-User', 'conf': {'spark.pyspark.python': 'python3', 'spark.pyspark.virtualenv.enabled': 'true', 'spark.pyspark.virtualenv.type': 'native', 'spark.pyspark.virtualenv.bin.path': '/usr/bin/virtualenv'}, 'kind': 'pyspark'}</tt><br>"
      ],
      "text/plain": [
       "<IPython.core.display.HTML object>"
      ]
     },
     "metadata": {},
     "output_type": "display_data"
    },
    {
     "data": {
      "text/html": [
       "No active sessions."
      ],
      "text/plain": [
       "<IPython.core.display.HTML object>"
      ]
     },
     "metadata": {},
     "output_type": "display_data"
    }
   ],
   "source": [
    "%%info"
   ]
  },
  {
   "cell_type": "markdown",
   "id": "e0baad00",
   "metadata": {},
   "source": [
    "Let's install the necessary packages here"
   ]
  },
  {
   "cell_type": "code",
   "execution_count": 2,
   "id": "3a6bef25",
   "metadata": {
    "execution": {
     "iopub.execute_input": "2023-12-01T08:54:57.295350Z",
     "iopub.status.busy": "2023-12-01T08:54:57.294794Z",
     "iopub.status.idle": "2023-12-01T08:55:45.178574Z",
     "shell.execute_reply": "2023-12-01T08:55:45.177698Z",
     "shell.execute_reply.started": "2023-12-01T08:54:57.295313Z"
    },
    "tags": []
   },
   "outputs": [
    {
     "data": {
      "application/vnd.jupyter.widget-view+json": {
       "model_id": "0135ff3be61f4125a9484a11e59e682c",
       "version_major": 2,
       "version_minor": 0
      },
      "text/plain": [
       "VBox()"
      ]
     },
     "metadata": {},
     "output_type": "display_data"
    },
    {
     "name": "stdout",
     "output_type": "stream",
     "text": [
      "Starting Spark application\n"
     ]
    },
    {
     "data": {
      "text/html": [
       "<table>\n<tbody><tr><th>ID</th><th>YARN Application ID</th><th>Kind</th><th>State</th><th>Spark UI</th><th>Driver log</th><th>User</th><th>Current session?</th></tr><tr><td>7</td><td>application_1701365468221_0008</td><td>pyspark</td><td>idle</td><td><a target=\"_blank\" href=\"http://ip-172-31-10-196.us-east-2.compute.internal:20888/proxy/application_1701365468221_0008/\" class=\"emr-proxy-link j-1TQC2DT8JGWY5 application_1701365468221_0008\" emr-resource=\"j-1TQC2DT8JGWY5\n\" application-id=\"application_1701365468221_0008\">Link</a></td><td><a target=\"_blank\" href=\"http://ip-172-31-14-218.us-east-2.compute.internal:8042/node/containerlogs/container_1701365468221_0008_01_000001/livy\">Link</a></td><td>None</td><td>✔</td></tr></tbody></table>"
      ],
      "text/plain": [
       "<IPython.core.display.HTML object>"
      ]
     },
     "metadata": {},
     "output_type": "display_data"
    },
    {
     "data": {
      "application/vnd.jupyter.widget-view+json": {
       "model_id": "",
       "version_major": 2,
       "version_minor": 0
      },
      "text/plain": [
       "FloatProgress(value=0.0, bar_style='info', description='Progress:', layout=Layout(height='25px', width='50%'),…"
      ]
     },
     "metadata": {},
     "output_type": "display_data"
    },
    {
     "name": "stdout",
     "output_type": "stream",
     "text": [
      "SparkSession available as 'spark'.\n"
     ]
    },
    {
     "data": {
      "application/vnd.jupyter.widget-view+json": {
       "model_id": "",
       "version_major": 2,
       "version_minor": 0
      },
      "text/plain": [
       "FloatProgress(value=0.0, bar_style='info', description='Progress:', layout=Layout(height='25px', width='50%'),…"
      ]
     },
     "metadata": {},
     "output_type": "display_data"
    },
    {
     "name": "stdout",
     "output_type": "stream",
     "text": [
      "Package                    Version\n",
      "-------------------------- ----------\n",
      "aws-cfn-bootstrap          2.0\n",
      "beautifulsoup4             4.9.3\n",
      "boto                       2.49.0\n",
      "click                      8.1.7\n",
      "docutils                   0.14\n",
      "jmespath                   1.0.1\n",
      "joblib                     1.3.2\n",
      "lockfile                   0.11.0\n",
      "lxml                       4.9.3\n",
      "mysqlclient                1.4.2\n",
      "nltk                       3.8.1\n",
      "nose                       1.3.4\n",
      "numpy                      1.20.0\n",
      "pip                        20.2.2\n",
      "py-dateutil                2.2\n",
      "pystache                   0.5.4\n",
      "python-daemon              2.2.3\n",
      "python37-sagemaker-pyspark 1.4.2\n",
      "pytz                       2023.3\n",
      "PyYAML                     5.4.1\n",
      "regex                      2021.11.10\n",
      "setuptools                 28.8.0\n",
      "simplejson                 3.2.0\n",
      "six                        1.13.0\n",
      "tqdm                       4.66.1\n",
      "wheel                      0.29.0\n",
      "windmill                   1.6\n",
      "\n",
      "Collecting pandas==1.0.5\n",
      "  Downloading pandas-1.0.5-cp37-cp37m-manylinux1_x86_64.whl (10.1 MB)\n",
      "Collecting python-dateutil>=2.6.1\n",
      "  Downloading python_dateutil-2.8.2-py2.py3-none-any.whl (247 kB)\n",
      "Requirement already satisfied: pytz>=2017.2 in /usr/local/lib/python3.7/site-packages (from pandas==1.0.5) (2023.3)\n",
      "Requirement already satisfied: numpy>=1.13.3 in /usr/local/lib64/python3.7/site-packages (from pandas==1.0.5) (1.20.0)\n",
      "Requirement already satisfied: six>=1.5 in /usr/local/lib/python3.7/site-packages (from python-dateutil>=2.6.1->pandas==1.0.5) (1.13.0)\n",
      "Installing collected packages: python-dateutil, pandas\n",
      "Successfully installed pandas-1.0.5 python-dateutil-2.8.2\n",
      "\n",
      "Collecting matplotlib==3.2.1\n",
      "  Downloading matplotlib-3.2.1-cp37-cp37m-manylinux1_x86_64.whl (12.4 MB)\n",
      "Collecting cycler>=0.10\n",
      "  Downloading cycler-0.11.0-py3-none-any.whl (6.4 kB)\n",
      "Collecting pyparsing!=2.0.4,!=2.1.2,!=2.1.6,>=2.0.1\n",
      "  Downloading pyparsing-3.1.1-py3-none-any.whl (103 kB)\n",
      "Requirement already satisfied: numpy>=1.11 in /usr/local/lib64/python3.7/site-packages (from matplotlib==3.2.1) (1.20.0)\n",
      "Requirement already satisfied: python-dateutil>=2.1 in ./tmp/spark-17f62fd0-95e2-4d9c-8136-3c25d90f541b/lib/python3.7/site-packages (from matplotlib==3.2.1) (2.8.2)\n",
      "Collecting kiwisolver>=1.0.1\n",
      "  Downloading kiwisolver-1.4.5-cp37-cp37m-manylinux_2_5_x86_64.manylinux1_x86_64.whl (1.1 MB)\n",
      "Requirement already satisfied: six>=1.5 in /usr/local/lib/python3.7/site-packages (from python-dateutil>=2.1->matplotlib==3.2.1) (1.13.0)\n",
      "Collecting typing-extensions; python_version < \"3.8\"\n",
      "  Downloading typing_extensions-4.7.1-py3-none-any.whl (33 kB)\n",
      "Installing collected packages: cycler, pyparsing, typing-extensions, kiwisolver, matplotlib\n",
      "Successfully installed cycler-0.11.0 kiwisolver-1.4.5 matplotlib-3.2.1 pyparsing-3.1.1 typing-extensions-4.7.1\n",
      "\n",
      "WARNING: The directory '/home/.cache/pip' or its parent directory is not owned or is not writable by the current user. The cache has been disabled. Check the permissions and owner of that directory. If executing pip with sudo, you may want sudo's -H flag.\n",
      "\n",
      "WARNING: The directory '/home/.cache/pip' or its parent directory is not owned or is not writable by the current user. The cache has been disabled. Check the permissions and owner of that directory. If executing pip with sudo, you may want sudo's -H flag.\n",
      "\n",
      "WARNING: The directory '/home/.cache/pip' or its parent directory is not owned or is not writable by the current user. The cache has been disabled. Check the permissions and owner of that directory. If executing pip with sudo, you may want sudo's -H flag."
     ]
    }
   ],
   "source": [
    "sc.list_packages()\n",
    "sc.install_pypi_package(\"pandas==1.0.5\")\n",
    "sc.install_pypi_package(\"matplotlib==3.2.1\")"
   ]
  },
  {
   "cell_type": "markdown",
   "id": "92f337f1",
   "metadata": {},
   "source": [
    "Now, import the installed packages from the previous block below."
   ]
  },
  {
   "cell_type": "code",
   "execution_count": 3,
   "id": "b527ed37",
   "metadata": {
    "execution": {
     "iopub.execute_input": "2023-12-01T08:55:45.179820Z",
     "iopub.status.busy": "2023-12-01T08:55:45.179589Z",
     "iopub.status.idle": "2023-12-01T08:55:47.437216Z",
     "shell.execute_reply": "2023-12-01T08:55:47.436537Z",
     "shell.execute_reply.started": "2023-12-01T08:55:45.179798Z"
    },
    "tags": []
   },
   "outputs": [
    {
     "data": {
      "application/vnd.jupyter.widget-view+json": {
       "model_id": "fb40daa076044cfa9c2bd8fd0de45221",
       "version_major": 2,
       "version_minor": 0
      },
      "text/plain": [
       "VBox()"
      ]
     },
     "metadata": {},
     "output_type": "display_data"
    },
    {
     "data": {
      "application/vnd.jupyter.widget-view+json": {
       "model_id": "",
       "version_major": 2,
       "version_minor": 0
      },
      "text/plain": [
       "FloatProgress(value=0.0, bar_style='info', description='Progress:', layout=Layout(height='25px', width='50%'),…"
      ]
     },
     "metadata": {},
     "output_type": "display_data"
    }
   ],
   "source": [
    "import pandas as pd\n",
    "import numpy as np\n",
    "import matplotlib.pyplot as plt\n",
    "from pyspark.sql.functions import (\n",
    "avg,\n",
    "mean, \n",
    "count, \n",
    "sum, \n",
    "col,\n",
    "max, \n",
    "min,\n",
    "lit,\n",
    "explode,\n",
    "split,\n",
    "format_number,\n",
    "first,\n",
    "approx_count_distinct, \n",
    "collect_set, \n",
    "countDistinct)\n",
    "from pyspark.sql.types import (\n",
    "StructType,\n",
    "StructField,\n",
    "StringType,\n",
    "IntegerType,\n",
    "ArrayType\n",
    ")"
   ]
  },
  {
   "cell_type": "markdown",
   "id": "9b2f109d",
   "metadata": {},
   "source": [
    "# Loading Data"
   ]
  },
  {
   "cell_type": "markdown",
   "id": "966aba52",
   "metadata": {},
   "source": [
    "Load all data from S3 into a Spark dataframe object "
   ]
  },
  {
   "cell_type": "code",
   "execution_count": 4,
   "id": "f5074486",
   "metadata": {
    "execution": {
     "iopub.execute_input": "2023-12-01T08:55:47.438438Z",
     "iopub.status.busy": "2023-12-01T08:55:47.438195Z",
     "iopub.status.idle": "2023-12-01T08:55:56.724253Z",
     "shell.execute_reply": "2023-12-01T08:55:56.723322Z",
     "shell.execute_reply.started": "2023-12-01T08:55:47.438414Z"
    },
    "scrolled": true,
    "tags": []
   },
   "outputs": [
    {
     "data": {
      "application/vnd.jupyter.widget-view+json": {
       "model_id": "347ebc3d08a44fb8bd4060ee8c2b3737",
       "version_major": 2,
       "version_minor": 0
      },
      "text/plain": [
       "VBox()"
      ]
     },
     "metadata": {},
     "output_type": "display_data"
    },
    {
     "data": {
      "application/vnd.jupyter.widget-view+json": {
       "model_id": "",
       "version_major": 2,
       "version_minor": 0
      },
      "text/plain": [
       "FloatProgress(value=0.0, bar_style='info', description='Progress:', layout=Layout(height='25px', width='50%'),…"
      ]
     },
     "metadata": {},
     "output_type": "display_data"
    }
   ],
   "source": [
    "actors = spark.read.csv('s3://cis9760-lecture9-movieanalysis/name.basics.tsv', sep=r'\\t', header=True)\n",
    "genres = spark.read.csv('s3://cis9760-lecture9-movieanalysis/title.basics.tsv', sep=r'\\t', header=True)\n",
    "movie_actors = spark.read.csv('s3://cis9760-lecture9-movieanalysis/title.principals.tsv', sep=r'\\t', header=True)\n",
    "movie_ratings = spark.read.csv('s3://cis9760-lecture9-movieanalysis/title.ratings.tsv', sep=r'\\t', header=True)"
   ]
  },
  {
   "cell_type": "markdown",
   "id": "765abec6",
   "metadata": {},
   "source": [
    "## Actors"
   ]
  },
  {
   "cell_type": "markdown",
   "id": "6bd08dc9",
   "metadata": {},
   "source": [
    "Display the schema below:"
   ]
  },
  {
   "cell_type": "code",
   "execution_count": 5,
   "id": "1eecdfcb",
   "metadata": {
    "execution": {
     "iopub.execute_input": "2023-12-01T08:55:56.725957Z",
     "iopub.status.busy": "2023-12-01T08:55:56.725627Z",
     "iopub.status.idle": "2023-12-01T08:55:56.985051Z",
     "shell.execute_reply": "2023-12-01T08:55:56.984166Z",
     "shell.execute_reply.started": "2023-12-01T08:55:56.725920Z"
    },
    "tags": []
   },
   "outputs": [
    {
     "data": {
      "application/vnd.jupyter.widget-view+json": {
       "model_id": "e47297a32736468f93955b83227b916d",
       "version_major": 2,
       "version_minor": 0
      },
      "text/plain": [
       "VBox()"
      ]
     },
     "metadata": {},
     "output_type": "display_data"
    },
    {
     "data": {
      "application/vnd.jupyter.widget-view+json": {
       "model_id": "",
       "version_major": 2,
       "version_minor": 0
      },
      "text/plain": [
       "FloatProgress(value=0.0, bar_style='info', description='Progress:', layout=Layout(height='25px', width='50%'),…"
      ]
     },
     "metadata": {},
     "output_type": "display_data"
    },
    {
     "name": "stdout",
     "output_type": "stream",
     "text": [
      "root\n",
      " |-- nconst: string (nullable = true)\n",
      " |-- primaryName: string (nullable = true)\n",
      " |-- birthYear: string (nullable = true)\n",
      " |-- deathYear: string (nullable = true)\n",
      " |-- primaryProfession: string (nullable = true)\n",
      " |-- knownForTitles: string (nullable = true)"
     ]
    }
   ],
   "source": [
    "actors.printSchema()"
   ]
  },
  {
   "cell_type": "markdown",
   "id": "64a82266",
   "metadata": {},
   "source": [
    "Display the first 5 rows with the following columns:\n",
    "\n",
    "* `primaryName`\n",
    "* `birthYear`\n",
    "* `deathYear`\n",
    "* `knownForTitles`"
   ]
  },
  {
   "cell_type": "code",
   "execution_count": 6,
   "id": "e5d925ee",
   "metadata": {
    "execution": {
     "iopub.execute_input": "2023-12-01T08:55:56.986375Z",
     "iopub.status.busy": "2023-12-01T08:55:56.986044Z",
     "iopub.status.idle": "2023-12-01T08:55:57.736867Z",
     "shell.execute_reply": "2023-12-01T08:55:57.736127Z",
     "shell.execute_reply.started": "2023-12-01T08:55:56.986340Z"
    },
    "tags": []
   },
   "outputs": [
    {
     "data": {
      "application/vnd.jupyter.widget-view+json": {
       "model_id": "dd35ed8dea6d423caa949bddfa421790",
       "version_major": 2,
       "version_minor": 0
      },
      "text/plain": [
       "VBox()"
      ]
     },
     "metadata": {},
     "output_type": "display_data"
    },
    {
     "data": {
      "application/vnd.jupyter.widget-view+json": {
       "model_id": "",
       "version_major": 2,
       "version_minor": 0
      },
      "text/plain": [
       "FloatProgress(value=0.0, bar_style='info', description='Progress:', layout=Layout(height='25px', width='50%'),…"
      ]
     },
     "metadata": {},
     "output_type": "display_data"
    },
    {
     "name": "stdout",
     "output_type": "stream",
     "text": [
      "+---------------+---------+---------+--------------------+\n",
      "|    primaryName|birthYear|deathYear|      knownForTitles|\n",
      "+---------------+---------+---------+--------------------+\n",
      "|   Fred Astaire|     1899|     1987|tt0050419,tt00531...|\n",
      "|  Lauren Bacall|     1924|     2014|tt0071877,tt01170...|\n",
      "|Brigitte Bardot|     1934|       \\N|tt0054452,tt00491...|\n",
      "|   John Belushi|     1949|     1982|tt0077975,tt00725...|\n",
      "| Ingmar Bergman|     1918|     2007|tt0069467,tt00509...|\n",
      "+---------------+---------+---------+--------------------+\n",
      "only showing top 5 rows"
     ]
    }
   ],
   "source": [
    "actors.select('primaryName', 'birthYear', 'deathYear', 'knownForTitles').show(5)"
   ]
  },
  {
   "cell_type": "markdown",
   "id": "51442d1c",
   "metadata": {},
   "source": [
    "## Genres"
   ]
  },
  {
   "cell_type": "markdown",
   "id": "0c2b583c",
   "metadata": {},
   "source": [
    "Display the first 10 rows with the following columns:\n",
    "    \n",
    "* `titleType`\n",
    "* `primaryTitle`\n",
    "* `genres`"
   ]
  },
  {
   "cell_type": "code",
   "execution_count": 7,
   "id": "391cdac2",
   "metadata": {
    "execution": {
     "iopub.execute_input": "2023-12-01T08:55:57.739452Z",
     "iopub.status.busy": "2023-12-01T08:55:57.739231Z",
     "iopub.status.idle": "2023-12-01T08:55:58.486421Z",
     "shell.execute_reply": "2023-12-01T08:55:58.485621Z",
     "shell.execute_reply.started": "2023-12-01T08:55:57.739430Z"
    },
    "tags": []
   },
   "outputs": [
    {
     "data": {
      "application/vnd.jupyter.widget-view+json": {
       "model_id": "35c820cd0de345a1b4c276cc7134139e",
       "version_major": 2,
       "version_minor": 0
      },
      "text/plain": [
       "VBox()"
      ]
     },
     "metadata": {},
     "output_type": "display_data"
    },
    {
     "data": {
      "application/vnd.jupyter.widget-view+json": {
       "model_id": "",
       "version_major": 2,
       "version_minor": 0
      },
      "text/plain": [
       "FloatProgress(value=0.0, bar_style='info', description='Progress:', layout=Layout(height='25px', width='50%'),…"
      ]
     },
     "metadata": {},
     "output_type": "display_data"
    },
    {
     "name": "stdout",
     "output_type": "stream",
     "text": [
      "+---------+--------------------+--------------------+\n",
      "|titleType|        primaryTitle|              genres|\n",
      "+---------+--------------------+--------------------+\n",
      "|    short|          Carmencita|   Documentary,Short|\n",
      "|    short|Le clown et ses c...|     Animation,Short|\n",
      "|    short|      Pauvre Pierrot|Animation,Comedy,...|\n",
      "|    short|         Un bon bock|     Animation,Short|\n",
      "|    short|    Blacksmith Scene|        Comedy,Short|\n",
      "|    short|   Chinese Opium Den|               Short|\n",
      "|    short|Corbett and Court...|         Short,Sport|\n",
      "|    short|Edison Kinetoscop...|   Documentary,Short|\n",
      "|    movie|          Miss Jerry|             Romance|\n",
      "|    short| Exiting the Factory|   Documentary,Short|\n",
      "+---------+--------------------+--------------------+\n",
      "only showing top 10 rows"
     ]
    }
   ],
   "source": [
    "genres.select('titleType', 'primaryTitle', 'genres').show(10)"
   ]
  },
  {
   "cell_type": "markdown",
   "id": "c35ce504",
   "metadata": {},
   "source": [
    "Display the unique categories below:"
   ]
  },
  {
   "cell_type": "code",
   "execution_count": 8,
   "id": "8ea9223d-a1c3-4aaf-8394-d9789795d86e",
   "metadata": {
    "execution": {
     "iopub.execute_input": "2023-12-01T08:55:58.488236Z",
     "iopub.status.busy": "2023-12-01T08:55:58.488019Z",
     "iopub.status.idle": "2023-12-01T08:56:07.757291Z",
     "shell.execute_reply": "2023-12-01T08:56:07.756440Z",
     "shell.execute_reply.started": "2023-12-01T08:55:58.488215Z"
    },
    "tags": []
   },
   "outputs": [
    {
     "data": {
      "application/vnd.jupyter.widget-view+json": {
       "model_id": "0cd6f0b27cda42438e6390e597c43b15",
       "version_major": 2,
       "version_minor": 0
      },
      "text/plain": [
       "VBox()"
      ]
     },
     "metadata": {},
     "output_type": "display_data"
    },
    {
     "data": {
      "application/vnd.jupyter.widget-view+json": {
       "model_id": "",
       "version_major": 2,
       "version_minor": 0
      },
      "text/plain": [
       "FloatProgress(value=0.0, bar_style='info', description='Progress:', layout=Layout(height='25px', width='50%'),…"
      ]
     },
     "metadata": {},
     "output_type": "display_data"
    },
    {
     "name": "stdout",
     "output_type": "stream",
     "text": [
      "+------------+\n",
      "|   titleType|\n",
      "+------------+\n",
      "|    tvSeries|\n",
      "|tvMiniSeries|\n",
      "|       movie|\n",
      "|   videoGame|\n",
      "|   tvSpecial|\n",
      "|       video|\n",
      "|     tvMovie|\n",
      "|   tvEpisode|\n",
      "|     tvShort|\n",
      "|       short|\n",
      "+------------+"
     ]
    }
   ],
   "source": [
    "genres.select('titleType').distinct().show()"
   ]
  },
  {
   "cell_type": "markdown",
   "id": "4a7a6cce",
   "metadata": {},
   "source": [
    "Display the schema below:"
   ]
  },
  {
   "cell_type": "code",
   "execution_count": 9,
   "id": "ea93031e",
   "metadata": {
    "execution": {
     "iopub.execute_input": "2023-12-01T08:56:07.758597Z",
     "iopub.status.busy": "2023-12-01T08:56:07.758371Z",
     "iopub.status.idle": "2023-12-01T08:56:07.798086Z",
     "shell.execute_reply": "2023-12-01T08:56:07.797364Z",
     "shell.execute_reply.started": "2023-12-01T08:56:07.758575Z"
    },
    "tags": []
   },
   "outputs": [
    {
     "data": {
      "application/vnd.jupyter.widget-view+json": {
       "model_id": "acb9b1e3f68449248248b41d3a2b99ea",
       "version_major": 2,
       "version_minor": 0
      },
      "text/plain": [
       "VBox()"
      ]
     },
     "metadata": {},
     "output_type": "display_data"
    },
    {
     "data": {
      "application/vnd.jupyter.widget-view+json": {
       "model_id": "",
       "version_major": 2,
       "version_minor": 0
      },
      "text/plain": [
       "FloatProgress(value=0.0, bar_style='info', description='Progress:', layout=Layout(height='25px', width='50%'),…"
      ]
     },
     "metadata": {},
     "output_type": "display_data"
    },
    {
     "name": "stdout",
     "output_type": "stream",
     "text": [
      "root\n",
      " |-- tconst: string (nullable = true)\n",
      " |-- titleType: string (nullable = true)\n",
      " |-- primaryTitle: string (nullable = true)\n",
      " |-- originalTitle: string (nullable = true)\n",
      " |-- isAdult: string (nullable = true)\n",
      " |-- startYear: string (nullable = true)\n",
      " |-- endYear: string (nullable = true)\n",
      " |-- runtimeMinutes: string (nullable = true)\n",
      " |-- genres: string (nullable = true)"
     ]
    }
   ],
   "source": [
    "genres.printSchema()"
   ]
  },
  {
   "cell_type": "markdown",
   "id": "fa706ee4",
   "metadata": {},
   "source": [
    "## Movie Actors"
   ]
  },
  {
   "cell_type": "markdown",
   "id": "32f14042",
   "metadata": {},
   "source": [
    "Display the schema below:"
   ]
  },
  {
   "cell_type": "code",
   "execution_count": 10,
   "id": "4571eb2f",
   "metadata": {
    "execution": {
     "iopub.execute_input": "2023-12-01T08:56:07.799500Z",
     "iopub.status.busy": "2023-12-01T08:56:07.799168Z",
     "iopub.status.idle": "2023-12-01T08:56:07.841036Z",
     "shell.execute_reply": "2023-12-01T08:56:07.838999Z",
     "shell.execute_reply.started": "2023-12-01T08:56:07.799467Z"
    },
    "tags": []
   },
   "outputs": [
    {
     "data": {
      "application/vnd.jupyter.widget-view+json": {
       "model_id": "44ab40726d724dcbb78f8f909137c788",
       "version_major": 2,
       "version_minor": 0
      },
      "text/plain": [
       "VBox()"
      ]
     },
     "metadata": {},
     "output_type": "display_data"
    },
    {
     "data": {
      "application/vnd.jupyter.widget-view+json": {
       "model_id": "",
       "version_major": 2,
       "version_minor": 0
      },
      "text/plain": [
       "FloatProgress(value=0.0, bar_style='info', description='Progress:', layout=Layout(height='25px', width='50%'),…"
      ]
     },
     "metadata": {},
     "output_type": "display_data"
    },
    {
     "name": "stdout",
     "output_type": "stream",
     "text": [
      "root\n",
      " |-- tconst: string (nullable = true)\n",
      " |-- ordering: string (nullable = true)\n",
      " |-- nconst: string (nullable = true)\n",
      " |-- category: string (nullable = true)\n",
      " |-- job: string (nullable = true)\n",
      " |-- characters: string (nullable = true)"
     ]
    }
   ],
   "source": [
    "movie_actors.printSchema()"
   ]
  },
  {
   "cell_type": "markdown",
   "id": "b08eb2d6",
   "metadata": {},
   "source": [
    "Display the first 10 rows below"
   ]
  },
  {
   "cell_type": "code",
   "execution_count": 11,
   "id": "f1bb4d2e",
   "metadata": {
    "execution": {
     "iopub.execute_input": "2023-12-01T08:56:07.842192Z",
     "iopub.status.busy": "2023-12-01T08:56:07.841981Z",
     "iopub.status.idle": "2023-12-01T08:56:08.084371Z",
     "shell.execute_reply": "2023-12-01T08:56:08.083715Z",
     "shell.execute_reply.started": "2023-12-01T08:56:07.842171Z"
    },
    "tags": []
   },
   "outputs": [
    {
     "data": {
      "application/vnd.jupyter.widget-view+json": {
       "model_id": "45bfe96511874dcca2f7e7e1bc223baf",
       "version_major": 2,
       "version_minor": 0
      },
      "text/plain": [
       "VBox()"
      ]
     },
     "metadata": {},
     "output_type": "display_data"
    },
    {
     "data": {
      "application/vnd.jupyter.widget-view+json": {
       "model_id": "",
       "version_major": 2,
       "version_minor": 0
      },
      "text/plain": [
       "FloatProgress(value=0.0, bar_style='info', description='Progress:', layout=Layout(height='25px', width='50%'),…"
      ]
     },
     "metadata": {},
     "output_type": "display_data"
    },
    {
     "name": "stdout",
     "output_type": "stream",
     "text": [
      "+---------+--------+---------+---------------+--------------------+-----------+\n",
      "|   tconst|ordering|   nconst|       category|                 job| characters|\n",
      "+---------+--------+---------+---------------+--------------------+-----------+\n",
      "|tt0000001|       1|nm1588970|           self|                  \\N|[\"Herself\"]|\n",
      "|tt0000001|       2|nm0005690|       director|                  \\N|         \\N|\n",
      "|tt0000001|       3|nm0374658|cinematographer|director of photo...|         \\N|\n",
      "|tt0000002|       1|nm0721526|       director|                  \\N|         \\N|\n",
      "|tt0000002|       2|nm1335271|       composer|                  \\N|         \\N|\n",
      "|tt0000003|       1|nm0721526|       director|                  \\N|         \\N|\n",
      "|tt0000003|       2|nm5442194|       producer|            producer|         \\N|\n",
      "|tt0000003|       3|nm1335271|       composer|                  \\N|         \\N|\n",
      "|tt0000003|       4|nm5442200|         editor|                  \\N|         \\N|\n",
      "|tt0000004|       1|nm0721526|       director|                  \\N|         \\N|\n",
      "+---------+--------+---------+---------------+--------------------+-----------+\n",
      "only showing top 10 rows"
     ]
    }
   ],
   "source": [
    "movie_actors.show(10)"
   ]
  },
  {
   "cell_type": "markdown",
   "id": "e063e804",
   "metadata": {},
   "source": [
    "## Movie Ratings"
   ]
  },
  {
   "cell_type": "markdown",
   "id": "8d9dbbf2",
   "metadata": {},
   "source": [
    "Display the schema below:"
   ]
  },
  {
   "cell_type": "code",
   "execution_count": 12,
   "id": "394297ae",
   "metadata": {
    "execution": {
     "iopub.execute_input": "2023-12-01T08:56:08.085690Z",
     "iopub.status.busy": "2023-12-01T08:56:08.085461Z",
     "iopub.status.idle": "2023-12-01T08:56:08.129518Z",
     "shell.execute_reply": "2023-12-01T08:56:08.128258Z",
     "shell.execute_reply.started": "2023-12-01T08:56:08.085667Z"
    },
    "tags": []
   },
   "outputs": [
    {
     "data": {
      "application/vnd.jupyter.widget-view+json": {
       "model_id": "caaac5be8eed4f1697d587471481c28c",
       "version_major": 2,
       "version_minor": 0
      },
      "text/plain": [
       "VBox()"
      ]
     },
     "metadata": {},
     "output_type": "display_data"
    },
    {
     "data": {
      "application/vnd.jupyter.widget-view+json": {
       "model_id": "",
       "version_major": 2,
       "version_minor": 0
      },
      "text/plain": [
       "FloatProgress(value=0.0, bar_style='info', description='Progress:', layout=Layout(height='25px', width='50%'),…"
      ]
     },
     "metadata": {},
     "output_type": "display_data"
    },
    {
     "name": "stdout",
     "output_type": "stream",
     "text": [
      "root\n",
      " |-- tconst: string (nullable = true)\n",
      " |-- averageRating: string (nullable = true)\n",
      " |-- numVotes: string (nullable = true)"
     ]
    }
   ],
   "source": [
    "movie_ratings.printSchema()"
   ]
  },
  {
   "cell_type": "markdown",
   "id": "a7e38610",
   "metadata": {},
   "source": [
    "Display the first 10 rows in a descending order by the number of votes"
   ]
  },
  {
   "cell_type": "code",
   "execution_count": 13,
   "id": "8a36afb3-3b3c-4ac4-b704-db1051e06836",
   "metadata": {
    "execution": {
     "iopub.execute_input": "2023-12-01T08:56:08.130436Z",
     "iopub.status.busy": "2023-12-01T08:56:08.130237Z",
     "iopub.status.idle": "2023-12-01T08:56:09.387127Z",
     "shell.execute_reply": "2023-12-01T08:56:09.386443Z",
     "shell.execute_reply.started": "2023-12-01T08:56:08.130415Z"
    },
    "tags": []
   },
   "outputs": [
    {
     "data": {
      "application/vnd.jupyter.widget-view+json": {
       "model_id": "e0544a59f5d44a5fb35ff27c458174bb",
       "version_major": 2,
       "version_minor": 0
      },
      "text/plain": [
       "VBox()"
      ]
     },
     "metadata": {},
     "output_type": "display_data"
    },
    {
     "data": {
      "application/vnd.jupyter.widget-view+json": {
       "model_id": "",
       "version_major": 2,
       "version_minor": 0
      },
      "text/plain": [
       "FloatProgress(value=0.0, bar_style='info', description='Progress:', layout=Layout(height='25px', width='50%'),…"
      ]
     },
     "metadata": {},
     "output_type": "display_data"
    },
    {
     "name": "stdout",
     "output_type": "stream",
     "text": [
      "+---------+-------------+--------+\n",
      "|   tconst|averageRating|numVotes|\n",
      "+---------+-------------+--------+\n",
      "|tt7430722|          6.8|    9999|\n",
      "|tt4445154|          8.1|    9997|\n",
      "|tt2229907|          6.3|    9996|\n",
      "|tt0294097|          8.0|    9994|\n",
      "|tt0264734|          6.5|    9993|\n",
      "|tt2032572|          5.2|    9991|\n",
      "|tt8860450|          6.3|    9991|\n",
      "|tt0696544|          8.2|     999|\n",
      "|tt2171651|          7.8|     999|\n",
      "|tt0664505|          8.4|     999|\n",
      "+---------+-------------+--------+\n",
      "only showing top 10 rows"
     ]
    }
   ],
   "source": [
    "movie_ratings.orderBy(col(\"numVotes\").desc()).show(10)"
   ]
  },
  {
   "cell_type": "markdown",
   "id": "dc6beb73",
   "metadata": {},
   "source": [
    "# Overview of Data"
   ]
  },
  {
   "cell_type": "markdown",
   "id": "6349d83b",
   "metadata": {},
   "source": [
    "Display the number of rows and columns in each dataFrame object."
   ]
  },
  {
   "cell_type": "code",
   "execution_count": 14,
   "id": "c085e8f6",
   "metadata": {
    "execution": {
     "iopub.execute_input": "2023-12-01T08:56:09.388330Z",
     "iopub.status.busy": "2023-12-01T08:56:09.388105Z",
     "iopub.status.idle": "2023-12-01T08:56:26.683608Z",
     "shell.execute_reply": "2023-12-01T08:56:26.682635Z",
     "shell.execute_reply.started": "2023-12-01T08:56:09.388308Z"
    },
    "scrolled": true,
    "tags": []
   },
   "outputs": [
    {
     "data": {
      "application/vnd.jupyter.widget-view+json": {
       "model_id": "dc964ad75d834f089ed67f810a547999",
       "version_major": 2,
       "version_minor": 0
      },
      "text/plain": [
       "VBox()"
      ]
     },
     "metadata": {},
     "output_type": "display_data"
    },
    {
     "data": {
      "application/vnd.jupyter.widget-view+json": {
       "model_id": "",
       "version_major": 2,
       "version_minor": 0
      },
      "text/plain": [
       "FloatProgress(value=0.0, bar_style='info', description='Progress:', layout=Layout(height='25px', width='50%'),…"
      ]
     },
     "metadata": {},
     "output_type": "display_data"
    },
    {
     "name": "stdout",
     "output_type": "stream",
     "text": [
      "Number of columns in Actors table: 6\n",
      "Number of rows in Actors table: 9706922\n",
      "\n",
      "Number of columns in Genres table: 9\n",
      "Number of rows in Genres table: 6321302\n",
      "\n",
      "Number of columns in Movie Actors table: 6\n",
      "Number of rows in Movie Actors table: 36468817\n",
      "\n",
      "Number of columns in Movie Ratings table: 3\n",
      "Number of rows in Movie Ratings table: 993153"
     ]
    }
   ],
   "source": [
    "print(f\"Number of columns in Actors table: {len(actors.columns)}\")\n",
    "print(f\"Number of rows in Actors table: {actors.count()}\\n\")\n",
    "\n",
    "print(f\"Number of columns in Genres table: {len(genres.columns)}\")\n",
    "print(f\"Number of rows in Genres table: {genres.count()}\\n\")\n",
    "\n",
    "print(f\"Number of columns in Movie Actors table: {len(movie_actors.columns)}\")\n",
    "print(f\"Number of rows in Movie Actors table: {movie_actors.count()}\\n\")\n",
    "\n",
    "print(f\"Number of columns in Movie Ratings table: {len(movie_ratings.columns)}\")\n",
    "print(f\"Number of rows in Movie Ratings table: {movie_ratings.count()}\\n\")"
   ]
  },
  {
   "cell_type": "markdown",
   "id": "689e09d5",
   "metadata": {
    "tags": []
   },
   "source": [
    "# PART 2 - Analyzing Genres"
   ]
  },
  {
   "cell_type": "markdown",
   "id": "bce79899",
   "metadata": {},
   "source": [
    "Let's now answer this question: how many unique genres are represented in this dataset?\n",
    "\n",
    "Essentially, we have the genres per movie as a list - this is useful to quickly see what each movie might be represented as but it is difficult to easily answer questions such as:\n",
    "\n",
    "* How many movies are categorized as Comedy, for instance?\n",
    "* What are the top 20 most popular genres available?"
   ]
  },
  {
   "cell_type": "markdown",
   "id": "3f5ea0ad",
   "metadata": {},
   "source": [
    "## Association Table\n",
    "\n",
    "We need to \"break out\" these genres from the tconst? One common approach to take is to build an association table mapping a single tconst multiple times to each distinct genre.\n",
    "\n",
    "For instance, given the following:\n",
    "\n",
    "\n",
    "| tconst   | titleType  |genres |\n",
    "|----------|------------|-------|\n",
    "| abcd123  | XXX        |a,b,c  |\n",
    "\n",
    "We would like to derive something like:\n",
    "\n",
    "| tconst   |  titleType |genre |\n",
    "|----------|------------|------|\n",
    "| abcd123  | XXX        |a     |\n",
    "| abcd123  | XXX        |b     |\n",
    "| abcd123  | XXX        |c     |\n",
    "\n",
    "\n",
    "What this does is allow us to then perform a myriad of rollups and other analysis on this association table which can aid us in answering the questions asked above.\n",
    "\n",
    "Implement the code necessary to derive the table described from the data set"
   ]
  },
  {
   "cell_type": "code",
   "execution_count": 15,
   "id": "61349598",
   "metadata": {
    "execution": {
     "iopub.execute_input": "2023-12-01T08:56:26.685193Z",
     "iopub.status.busy": "2023-12-01T08:56:26.684877Z",
     "iopub.status.idle": "2023-12-01T08:56:26.932488Z",
     "shell.execute_reply": "2023-12-01T08:56:26.931560Z",
     "shell.execute_reply.started": "2023-12-01T08:56:26.685159Z"
    },
    "tags": []
   },
   "outputs": [
    {
     "data": {
      "application/vnd.jupyter.widget-view+json": {
       "model_id": "1e84b6e1dfcd4f3fb5c1c8e9437204ea",
       "version_major": 2,
       "version_minor": 0
      },
      "text/plain": [
       "VBox()"
      ]
     },
     "metadata": {},
     "output_type": "display_data"
    },
    {
     "data": {
      "application/vnd.jupyter.widget-view+json": {
       "model_id": "",
       "version_major": 2,
       "version_minor": 0
      },
      "text/plain": [
       "FloatProgress(value=0.0, bar_style='info', description='Progress:', layout=Layout(height='25px', width='50%'),…"
      ]
     },
     "metadata": {},
     "output_type": "display_data"
    },
    {
     "name": "stdout",
     "output_type": "stream",
     "text": [
      "+---------+---------+--------------------+\n",
      "|   tconst|titleType|              genres|\n",
      "+---------+---------+--------------------+\n",
      "|tt0000001|    short|   Documentary,Short|\n",
      "|tt0000002|    short|     Animation,Short|\n",
      "|tt0000003|    short|Animation,Comedy,...|\n",
      "|tt0000004|    short|     Animation,Short|\n",
      "|tt0000005|    short|        Comedy,Short|\n",
      "+---------+---------+--------------------+\n",
      "only showing top 5 rows"
     ]
    }
   ],
   "source": [
    "genres.select('tconst', 'titleType', 'genres').show(5)"
   ]
  },
  {
   "cell_type": "markdown",
   "id": "3f27ead6",
   "metadata": {},
   "source": [
    "Display the first 10 rows of your association table below"
   ]
  },
  {
   "cell_type": "code",
   "execution_count": 16,
   "id": "209a9abd",
   "metadata": {
    "execution": {
     "iopub.execute_input": "2023-12-01T08:56:26.934032Z",
     "iopub.status.busy": "2023-12-01T08:56:26.933711Z",
     "iopub.status.idle": "2023-12-01T08:56:27.692113Z",
     "shell.execute_reply": "2023-12-01T08:56:27.691426Z",
     "shell.execute_reply.started": "2023-12-01T08:56:26.933997Z"
    },
    "tags": []
   },
   "outputs": [
    {
     "data": {
      "application/vnd.jupyter.widget-view+json": {
       "model_id": "cd2a39af600943328e2218b33cd2e03d",
       "version_major": 2,
       "version_minor": 0
      },
      "text/plain": [
       "VBox()"
      ]
     },
     "metadata": {},
     "output_type": "display_data"
    },
    {
     "data": {
      "application/vnd.jupyter.widget-view+json": {
       "model_id": "",
       "version_major": 2,
       "version_minor": 0
      },
      "text/plain": [
       "FloatProgress(value=0.0, bar_style='info', description='Progress:', layout=Layout(height='25px', width='50%'),…"
      ]
     },
     "metadata": {},
     "output_type": "display_data"
    },
    {
     "name": "stdout",
     "output_type": "stream",
     "text": [
      "+---------+---------+-----------+\n",
      "|   tconst|titleType|      genre|\n",
      "+---------+---------+-----------+\n",
      "|tt0000001|    short|Documentary|\n",
      "|tt0000001|    short|      Short|\n",
      "|tt0000002|    short|  Animation|\n",
      "|tt0000002|    short|      Short|\n",
      "|tt0000003|    short|  Animation|\n",
      "|tt0000003|    short|     Comedy|\n",
      "|tt0000003|    short|    Romance|\n",
      "|tt0000004|    short|  Animation|\n",
      "|tt0000004|    short|      Short|\n",
      "|tt0000005|    short|     Comedy|\n",
      "+---------+---------+-----------+\n",
      "only showing top 10 rows"
     ]
    }
   ],
   "source": [
    "genres_exploded = genres.withColumn('genre', explode(split('genres', ',')))                         \n",
    "genres_exploded.select('tconst', 'titleType', 'genre').show(10)"
   ]
  },
  {
   "cell_type": "markdown",
   "id": "28a6cb33",
   "metadata": {},
   "source": [
    "## Total Unique Genres"
   ]
  },
  {
   "cell_type": "markdown",
   "id": "3da774ae",
   "metadata": {},
   "source": [
    "**What is the total number of unique genres available in the movie category?**"
   ]
  },
  {
   "cell_type": "code",
   "execution_count": 17,
   "id": "4e41deb8",
   "metadata": {
    "execution": {
     "iopub.execute_input": "2023-12-01T08:56:27.693326Z",
     "iopub.status.busy": "2023-12-01T08:56:27.693104Z",
     "iopub.status.idle": "2023-12-01T08:56:36.965560Z",
     "shell.execute_reply": "2023-12-01T08:56:36.964737Z",
     "shell.execute_reply.started": "2023-12-01T08:56:27.693304Z"
    },
    "scrolled": true,
    "tags": []
   },
   "outputs": [
    {
     "data": {
      "application/vnd.jupyter.widget-view+json": {
       "model_id": "af845229165b4eac8cffb1658afb1e92",
       "version_major": 2,
       "version_minor": 0
      },
      "text/plain": [
       "VBox()"
      ]
     },
     "metadata": {},
     "output_type": "display_data"
    },
    {
     "data": {
      "application/vnd.jupyter.widget-view+json": {
       "model_id": "",
       "version_major": 2,
       "version_minor": 0
      },
      "text/plain": [
       "FloatProgress(value=0.0, bar_style='info', description='Progress:', layout=Layout(height='25px', width='50%'),…"
      ]
     },
     "metadata": {},
     "output_type": "display_data"
    },
    {
     "name": "stdout",
     "output_type": "stream",
     "text": [
      "29"
     ]
    }
   ],
   "source": [
    "genres_exploded.select(countDistinct('genre')).collect()[0][0]"
   ]
  },
  {
   "cell_type": "markdown",
   "id": "a7808ac8",
   "metadata": {},
   "source": [
    "**What are the unique genres available?**"
   ]
  },
  {
   "cell_type": "code",
   "execution_count": 18,
   "id": "1c502d5f",
   "metadata": {
    "execution": {
     "iopub.execute_input": "2023-12-01T08:56:36.966768Z",
     "iopub.status.busy": "2023-12-01T08:56:36.966544Z",
     "iopub.status.idle": "2023-12-01T08:56:44.251721Z",
     "shell.execute_reply": "2023-12-01T08:56:44.250944Z",
     "shell.execute_reply.started": "2023-12-01T08:56:36.966746Z"
    },
    "tags": []
   },
   "outputs": [
    {
     "data": {
      "application/vnd.jupyter.widget-view+json": {
       "model_id": "3fcf44927d994d83a35954839e04c992",
       "version_major": 2,
       "version_minor": 0
      },
      "text/plain": [
       "VBox()"
      ]
     },
     "metadata": {},
     "output_type": "display_data"
    },
    {
     "data": {
      "application/vnd.jupyter.widget-view+json": {
       "model_id": "",
       "version_major": 2,
       "version_minor": 0
      },
      "text/plain": [
       "FloatProgress(value=0.0, bar_style='info', description='Progress:', layout=Layout(height='25px', width='50%'),…"
      ]
     },
     "metadata": {},
     "output_type": "display_data"
    },
    {
     "name": "stdout",
     "output_type": "stream",
     "text": [
      "+-----------+\n",
      "|      genre|\n",
      "+-----------+\n",
      "|    Mystery|\n",
      "|    Musical|\n",
      "|      Sport|\n",
      "|     Action|\n",
      "|  Talk-Show|\n",
      "|    Romance|\n",
      "|   Thriller|\n",
      "|         \\N|\n",
      "| Reality-TV|\n",
      "|     Family|\n",
      "|    Fantasy|\n",
      "|    History|\n",
      "|  Animation|\n",
      "|  Film-Noir|\n",
      "|      Short|\n",
      "|     Sci-Fi|\n",
      "|       News|\n",
      "|      Drama|\n",
      "|Documentary|\n",
      "|    Western|\n",
      "+-----------+\n",
      "only showing top 20 rows"
     ]
    }
   ],
   "source": [
    "genres_exploded.select('genre').distinct().show()"
   ]
  },
  {
   "cell_type": "markdown",
   "id": "85bae74f",
   "metadata": {},
   "source": [
    "**Oops! Something is off!**"
   ]
  },
  {
   "cell_type": "code",
   "execution_count": 19,
   "id": "670fb90f",
   "metadata": {
    "execution": {
     "iopub.execute_input": "2023-12-01T08:56:44.253185Z",
     "iopub.status.busy": "2023-12-01T08:56:44.252848Z",
     "iopub.status.idle": "2023-12-01T08:56:53.527713Z",
     "shell.execute_reply": "2023-12-01T08:56:53.526876Z",
     "shell.execute_reply.started": "2023-12-01T08:56:44.253151Z"
    },
    "scrolled": true,
    "tags": []
   },
   "outputs": [
    {
     "data": {
      "application/vnd.jupyter.widget-view+json": {
       "model_id": "b3697fb5c0ae49f799b0896dcfa8c7ef",
       "version_major": 2,
       "version_minor": 0
      },
      "text/plain": [
       "VBox()"
      ]
     },
     "metadata": {},
     "output_type": "display_data"
    },
    {
     "data": {
      "application/vnd.jupyter.widget-view+json": {
       "model_id": "",
       "version_major": 2,
       "version_minor": 0
      },
      "text/plain": [
       "FloatProgress(value=0.0, bar_style='info', description='Progress:', layout=Layout(height='25px', width='50%'),…"
      ]
     },
     "metadata": {},
     "output_type": "display_data"
    },
    {
     "name": "stdout",
     "output_type": "stream",
     "text": [
      "+-----------+\n",
      "|      genre|\n",
      "+-----------+\n",
      "|    Mystery|\n",
      "|    Musical|\n",
      "|      Sport|\n",
      "|     Action|\n",
      "|  Talk-Show|\n",
      "|    Romance|\n",
      "|   Thriller|\n",
      "| Reality-TV|\n",
      "|     Family|\n",
      "|    Fantasy|\n",
      "|    History|\n",
      "|  Animation|\n",
      "|  Film-Noir|\n",
      "|      Short|\n",
      "|     Sci-Fi|\n",
      "|       News|\n",
      "|      Drama|\n",
      "|Documentary|\n",
      "|    Western|\n",
      "|     Comedy|\n",
      "+-----------+\n",
      "only showing top 20 rows"
     ]
    }
   ],
   "source": [
    "genres_exploded_cleaned = genres_exploded.filter(col('genre')!= \"\\\\N\")\n",
    "genres_exploded_cleaned.select('genre').distinct().show()"
   ]
  },
  {
   "cell_type": "code",
   "execution_count": 20,
   "id": "379868ed",
   "metadata": {
    "execution": {
     "iopub.execute_input": "2023-12-01T08:56:53.529258Z",
     "iopub.status.busy": "2023-12-01T08:56:53.528928Z",
     "iopub.status.idle": "2023-12-01T08:57:00.804107Z",
     "shell.execute_reply": "2023-12-01T08:57:00.803338Z",
     "shell.execute_reply.started": "2023-12-01T08:56:53.529223Z"
    },
    "tags": []
   },
   "outputs": [
    {
     "data": {
      "application/vnd.jupyter.widget-view+json": {
       "model_id": "d27ef78fe50a4cc8a4787be1995806c2",
       "version_major": 2,
       "version_minor": 0
      },
      "text/plain": [
       "VBox()"
      ]
     },
     "metadata": {},
     "output_type": "display_data"
    },
    {
     "data": {
      "application/vnd.jupyter.widget-view+json": {
       "model_id": "",
       "version_major": 2,
       "version_minor": 0
      },
      "text/plain": [
       "FloatProgress(value=0.0, bar_style='info', description='Progress:', layout=Layout(height='25px', width='50%'),…"
      ]
     },
     "metadata": {},
     "output_type": "display_data"
    },
    {
     "name": "stdout",
     "output_type": "stream",
     "text": [
      "28"
     ]
    }
   ],
   "source": [
    "genres_exploded_cleaned.select(countDistinct('genre')).collect()[0][0]"
   ]
  },
  {
   "cell_type": "markdown",
   "id": "fe9a6b8a",
   "metadata": {},
   "source": [
    "## Top Genres by Movies\n",
    "\n",
    "Now let's find the highest rated genres in this dataset by rolling up genres."
   ]
  },
  {
   "cell_type": "markdown",
   "id": "b30e0b96",
   "metadata": {},
   "source": [
    "### Average Rating / Genre"
   ]
  },
  {
   "cell_type": "markdown",
   "id": "59242911",
   "metadata": {},
   "source": [
    "So now, let's unroll our distinct count a bit and display the per average rating value of per genre.\n",
    "\n",
    "The expected output should be:\n",
    "\n",
    "| genre | averageRating |\n",
    "|-------------|------------|\n",
    "| a     | 8.5         |\n",
    "| b     | 6.3         |\n",
    "| c     | 7.2         |\n",
    "\n",
    "Or something to that effect."
   ]
  },
  {
   "cell_type": "markdown",
   "id": "f505b1a2",
   "metadata": {},
   "source": [
    "First, let's join our two dataframes (movie ratings and genres) by tconst"
   ]
  },
  {
   "cell_type": "code",
   "execution_count": 21,
   "id": "8b652039-621c-4943-8929-3653ac759842",
   "metadata": {
    "execution": {
     "iopub.execute_input": "2023-12-01T08:57:00.805315Z",
     "iopub.status.busy": "2023-12-01T08:57:00.805081Z",
     "iopub.status.idle": "2023-12-01T08:57:10.119492Z",
     "shell.execute_reply": "2023-12-01T08:57:10.118684Z",
     "shell.execute_reply.started": "2023-12-01T08:57:00.805292Z"
    },
    "tags": []
   },
   "outputs": [
    {
     "data": {
      "application/vnd.jupyter.widget-view+json": {
       "model_id": "caa3e8b74a454d9cbdee5164cc7a26d6",
       "version_major": 2,
       "version_minor": 0
      },
      "text/plain": [
       "VBox()"
      ]
     },
     "metadata": {},
     "output_type": "display_data"
    },
    {
     "data": {
      "application/vnd.jupyter.widget-view+json": {
       "model_id": "",
       "version_major": 2,
       "version_minor": 0
      },
      "text/plain": [
       "FloatProgress(value=0.0, bar_style='info', description='Progress:', layout=Layout(height='25px', width='50%'),…"
      ]
     },
     "metadata": {},
     "output_type": "display_data"
    },
    {
     "name": "stdout",
     "output_type": "stream",
     "text": [
      "+---------+-------------+\n",
      "|    genre|averageRating|\n",
      "+---------+-------------+\n",
      "|    Drama|          4.2|\n",
      "|    Drama|          4.2|\n",
      "|Biography|          4.1|\n",
      "|    Drama|          4.1|\n",
      "|  History|          4.1|\n",
      "|    Drama|          5.7|\n",
      "|    Drama|          4.6|\n",
      "|  History|          4.6|\n",
      "|Biography|          6.3|\n",
      "|    Drama|          6.3|\n",
      "+---------+-------------+\n",
      "only showing top 10 rows"
     ]
    }
   ],
   "source": [
    "joined_ratings_genres = movie_ratings.join(genres_exploded_cleaned.filter(genres_exploded_cleaned.titleType == 'movie'),'tconst')\n",
    "joined_ratings_genres.select('genre', 'averageRating').show(10)"
   ]
  },
  {
   "cell_type": "markdown",
   "id": "5ac38a61",
   "metadata": {},
   "source": [
    "Now, let's aggregate along the averageRating column to get a resultant dataframe that displays average rating per genre."
   ]
  },
  {
   "cell_type": "code",
   "execution_count": 22,
   "id": "6d0db0ce-9eb9-46fb-885e-23933b7844ed",
   "metadata": {
    "execution": {
     "iopub.execute_input": "2023-12-01T08:57:10.120763Z",
     "iopub.status.busy": "2023-12-01T08:57:10.120491Z",
     "iopub.status.idle": "2023-12-01T08:57:19.405838Z",
     "shell.execute_reply": "2023-12-01T08:57:19.405019Z",
     "shell.execute_reply.started": "2023-12-01T08:57:10.120730Z"
    },
    "tags": []
   },
   "outputs": [
    {
     "data": {
      "application/vnd.jupyter.widget-view+json": {
       "model_id": "820f9a287c5f4daa91c3bb6211a1fda9",
       "version_major": 2,
       "version_minor": 0
      },
      "text/plain": [
       "VBox()"
      ]
     },
     "metadata": {},
     "output_type": "display_data"
    },
    {
     "data": {
      "application/vnd.jupyter.widget-view+json": {
       "model_id": "",
       "version_major": 2,
       "version_minor": 0
      },
      "text/plain": [
       "FloatProgress(value=0.0, bar_style='info', description='Progress:', layout=Layout(height='25px', width='50%'),…"
      ]
     },
     "metadata": {},
     "output_type": "display_data"
    },
    {
     "name": "stdout",
     "output_type": "stream",
     "text": [
      "+-----------+-----------------+\n",
      "|      genre|       avg_rating|\n",
      "+-----------+-----------------+\n",
      "|    Mystery|5.940437537126316|\n",
      "|    Musical|6.203246053185319|\n",
      "|     Action|5.718734067904495|\n",
      "|      Sport|6.600145190943391|\n",
      "|    Romance|6.125714179294426|\n",
      "|   Thriller|5.625967567519544|\n",
      "|     Family|6.250560452699635|\n",
      "|    Fantasy|5.924820762891499|\n",
      "|    History|6.822718117193864|\n",
      "|  Animation|6.326203749467441|\n",
      "|  Film-Noir|6.636246780503378|\n",
      "|     Sci-Fi|5.325150006900168|\n",
      "|       News|7.200916040944689|\n",
      "|      Drama|6.288080211097538|\n",
      "|Documentary|7.245469805371099|\n",
      "|    Western|5.948970991005059|\n",
      "|     Comedy|5.941363107822231|\n",
      "|      Crime|6.026013333109149|\n",
      "|        War|6.483807036278403|\n",
      "|      Adult|5.721742579082059|\n",
      "+-----------+-----------------+\n",
      "only showing top 20 rows"
     ]
    }
   ],
   "source": [
    "#Convarting \"averageRating\" into a float to correctly calculate the average\n",
    "joined_ratings_genres = joined_ratings_genres.withColumn(\"averageRating\", col(\"averageRating\").cast(\"float\"))\n",
    "\n",
    "average_ratings_per_genre = joined_ratings_genres.groupBy(\"genre\").agg(mean(\"averageRating\").alias('avg_rating'))\n",
    "average_ratings_per_genre.show()"
   ]
  },
  {
   "cell_type": "markdown",
   "id": "31bbbe8a",
   "metadata": {},
   "source": [
    "### Horizontal Bar Chart of Top Genres\n",
    "\n",
    "With this data available, let us now build a barchart of all genres \n",
    "\n",
    "**HINT**: don't forget about the matplotlib magic!\n",
    "\n",
    "```\n",
    "%matplot plt\n",
    "```"
   ]
  },
  {
   "cell_type": "code",
   "execution_count": 23,
   "id": "52189e81",
   "metadata": {
    "execution": {
     "iopub.execute_input": "2023-12-01T08:57:19.407317Z",
     "iopub.status.busy": "2023-12-01T08:57:19.406985Z",
     "iopub.status.idle": "2023-12-01T08:57:28.679261Z",
     "shell.execute_reply": "2023-12-01T08:57:28.678245Z",
     "shell.execute_reply.started": "2023-12-01T08:57:19.407281Z"
    },
    "tags": []
   },
   "outputs": [
    {
     "data": {
      "application/vnd.jupyter.widget-view+json": {
       "model_id": "5900030b6655467e9ab8bdb916b8e916",
       "version_major": 2,
       "version_minor": 0
      },
      "text/plain": [
       "VBox()"
      ]
     },
     "metadata": {},
     "output_type": "display_data"
    },
    {
     "data": {
      "application/vnd.jupyter.widget-view+json": {
       "model_id": "",
       "version_major": 2,
       "version_minor": 0
      },
      "text/plain": [
       "FloatProgress(value=0.0, bar_style='info', description='Progress:', layout=Layout(height='25px', width='50%'),…"
      ]
     },
     "metadata": {},
     "output_type": "display_data"
    },
    {
     "name": "stdout",
     "output_type": "stream",
     "text": [
      "+-----------+-----------------+\n",
      "|      genre|       avg_rating|\n",
      "+-----------+-----------------+\n",
      "|      Short|7.259999942779541|\n",
      "|Documentary|7.245469805371099|\n",
      "|       News|7.200916040944689|\n",
      "|  Biography|6.983637643044585|\n",
      "|  Game-Show|6.974999904632568|\n",
      "|    History|6.822718117193864|\n",
      "|      Music|6.752020207214588|\n",
      "|  Film-Noir|6.636246780503378|\n",
      "|      Sport|6.600145190943391|\n",
      "|        War|6.483807036278403|\n",
      "| Reality-TV|6.379310377712907|\n",
      "|  Animation|6.326203749467441|\n",
      "|      Drama|6.288080211097538|\n",
      "|     Family|6.250560452699635|\n",
      "|    Musical|6.203246053185319|\n",
      "|    Romance|6.125714179294426|\n",
      "|      Crime|6.026013333109149|\n",
      "|    Western|5.948970991005059|\n",
      "|     Comedy|5.941363107822231|\n",
      "|    Mystery|5.940437537126316|\n",
      "+-----------+-----------------+\n",
      "only showing top 20 rows"
     ]
    }
   ],
   "source": [
    "sorted_average_ratings_per_genre = average_ratings_per_genre.sort(col('avg_rating').desc())\n",
    "sorted_average_ratings_per_genre.show()"
   ]
  },
  {
   "cell_type": "code",
   "execution_count": 24,
   "id": "83a8327f-9203-4f22-ab8d-621a0589ab08",
   "metadata": {
    "execution": {
     "iopub.execute_input": "2023-12-01T08:57:28.680470Z",
     "iopub.status.busy": "2023-12-01T08:57:28.680249Z",
     "iopub.status.idle": "2023-12-01T08:57:37.969831Z",
     "shell.execute_reply": "2023-12-01T08:57:37.969009Z",
     "shell.execute_reply.started": "2023-12-01T08:57:28.680448Z"
    },
    "tags": []
   },
   "outputs": [
    {
     "data": {
      "application/vnd.jupyter.widget-view+json": {
       "model_id": "1848f9004bc441039487a49cffdecc46",
       "version_major": 2,
       "version_minor": 0
      },
      "text/plain": [
       "VBox()"
      ]
     },
     "metadata": {},
     "output_type": "display_data"
    },
    {
     "data": {
      "application/vnd.jupyter.widget-view+json": {
       "model_id": "",
       "version_major": 2,
       "version_minor": 0
      },
      "text/plain": [
       "FloatProgress(value=0.0, bar_style='info', description='Progress:', layout=Layout(height='25px', width='50%'),…"
      ]
     },
     "metadata": {},
     "output_type": "display_data"
    },
    {
     "data": {
      "image/png": "[encoded data removed]",
      "text/plain": [
       "<IPython.core.display.Image object>"
      ]
     },
     "metadata": {},
     "output_type": "display_data"
    }
   ],
   "source": [
    "# Converting Spark DataFrame into a Pandas DataFrame\n",
    "pd_sorted_average_ratings_per_genre = sorted_average_ratings_per_genre.toPandas()\n",
    "\n",
    "# Plotting\n",
    "plt.figure(figsize=(12, 8))\n",
    "plt.barh(pd_sorted_average_ratings_per_genre['genre'], pd_sorted_average_ratings_per_genre['avg_rating'], color='purple', height=0.5)\n",
    "plt.xlabel('Average Rating')\n",
    "plt.ylabel('Genre')\n",
    "plt.title('Top Genres in the Movie Category')\n",
    "plt.xlim(5.0, 7.5) \n",
    "plt.legend(['avg_rating'])\n",
    "plt.gca().invert_yaxis()\n",
    "plt.tight_layout()\n",
    "\n",
    "# Show the plot\n",
    "%matplot plt"
   ]
  },
  {
   "cell_type": "markdown",
   "id": "0cae0d39",
   "metadata": {},
   "source": [
    "## PART 3 - Analyzing Job Categories"
   ]
  },
  {
   "cell_type": "markdown",
   "id": "79d96276",
   "metadata": {},
   "source": [
    "## Total Unique Job Categories"
   ]
  },
  {
   "cell_type": "markdown",
   "id": "e7d31372",
   "metadata": {},
   "source": [
    "**What is the total number of unique job categories?**"
   ]
  },
  {
   "cell_type": "code",
   "execution_count": 25,
   "id": "6ab8506f-a9e9-4ea5-b0f2-261faeedfbed",
   "metadata": {
    "execution": {
     "iopub.execute_input": "2023-12-01T08:57:37.973591Z",
     "iopub.status.busy": "2023-12-01T08:57:37.973370Z",
     "iopub.status.idle": "2023-12-01T08:57:38.215340Z",
     "shell.execute_reply": "2023-12-01T08:57:38.214440Z",
     "shell.execute_reply.started": "2023-12-01T08:57:37.973570Z"
    },
    "tags": []
   },
   "outputs": [
    {
     "data": {
      "application/vnd.jupyter.widget-view+json": {
       "model_id": "20f5ec79e69a4d65ac3bf06e18a00d3e",
       "version_major": 2,
       "version_minor": 0
      },
      "text/plain": [
       "VBox()"
      ]
     },
     "metadata": {},
     "output_type": "display_data"
    },
    {
     "data": {
      "application/vnd.jupyter.widget-view+json": {
       "model_id": "",
       "version_major": 2,
       "version_minor": 0
      },
      "text/plain": [
       "FloatProgress(value=0.0, bar_style='info', description='Progress:', layout=Layout(height='25px', width='50%'),…"
      ]
     },
     "metadata": {},
     "output_type": "display_data"
    },
    {
     "name": "stdout",
     "output_type": "stream",
     "text": [
      "+---------+---------------+\n",
      "|   tconst|       category|\n",
      "+---------+---------------+\n",
      "|tt0000001|           self|\n",
      "|tt0000001|       director|\n",
      "|tt0000001|cinematographer|\n",
      "|tt0000002|       director|\n",
      "|tt0000002|       composer|\n",
      "+---------+---------------+\n",
      "only showing top 5 rows"
     ]
    }
   ],
   "source": [
    "movie_actors.select('tconst', 'category').show(5)"
   ]
  },
  {
   "cell_type": "code",
   "execution_count": 26,
   "id": "fca4e545",
   "metadata": {
    "execution": {
     "iopub.execute_input": "2023-12-01T08:57:38.217555Z",
     "iopub.status.busy": "2023-12-01T08:57:38.217226Z",
     "iopub.status.idle": "2023-12-01T08:58:01.592467Z",
     "shell.execute_reply": "2023-12-01T08:58:01.591410Z",
     "shell.execute_reply.started": "2023-12-01T08:57:38.217520Z"
    },
    "tags": []
   },
   "outputs": [
    {
     "data": {
      "application/vnd.jupyter.widget-view+json": {
       "model_id": "94bef8374a60488caccca30601ce55e7",
       "version_major": 2,
       "version_minor": 0
      },
      "text/plain": [
       "VBox()"
      ]
     },
     "metadata": {},
     "output_type": "display_data"
    },
    {
     "data": {
      "application/vnd.jupyter.widget-view+json": {
       "model_id": "",
       "version_major": 2,
       "version_minor": 0
      },
      "text/plain": [
       "FloatProgress(value=0.0, bar_style='info', description='Progress:', layout=Layout(height='25px', width='50%'),…"
      ]
     },
     "metadata": {},
     "output_type": "display_data"
    },
    {
     "name": "stdout",
     "output_type": "stream",
     "text": [
      "12"
     ]
    }
   ],
   "source": [
    "movie_actors.select(countDistinct('category')).collect()[0][0]"
   ]
  },
  {
   "cell_type": "markdown",
   "id": "3c19f62b",
   "metadata": {},
   "source": [
    "**What are the unique job categories available?**"
   ]
  },
  {
   "cell_type": "code",
   "execution_count": 27,
   "id": "37eadfcc",
   "metadata": {
    "execution": {
     "iopub.execute_input": "2023-12-01T08:58:01.594126Z",
     "iopub.status.busy": "2023-12-01T08:58:01.593790Z",
     "iopub.status.idle": "2023-12-01T08:58:24.900921Z",
     "shell.execute_reply": "2023-12-01T08:58:24.899904Z",
     "shell.execute_reply.started": "2023-12-01T08:58:01.594089Z"
    },
    "tags": []
   },
   "outputs": [
    {
     "data": {
      "application/vnd.jupyter.widget-view+json": {
       "model_id": "3bf231d2e28540fc83f14c020bd22494",
       "version_major": 2,
       "version_minor": 0
      },
      "text/plain": [
       "VBox()"
      ]
     },
     "metadata": {},
     "output_type": "display_data"
    },
    {
     "data": {
      "application/vnd.jupyter.widget-view+json": {
       "model_id": "",
       "version_major": 2,
       "version_minor": 0
      },
      "text/plain": [
       "FloatProgress(value=0.0, bar_style='info', description='Progress:', layout=Layout(height='25px', width='50%'),…"
      ]
     },
     "metadata": {},
     "output_type": "display_data"
    },
    {
     "name": "stdout",
     "output_type": "stream",
     "text": [
      "+-------------------+\n",
      "|           category|\n",
      "+-------------------+\n",
      "|            actress|\n",
      "|           producer|\n",
      "|production_designer|\n",
      "|             writer|\n",
      "|              actor|\n",
      "|    cinematographer|\n",
      "|      archive_sound|\n",
      "|    archive_footage|\n",
      "|               self|\n",
      "|             editor|\n",
      "|           composer|\n",
      "|           director|\n",
      "+-------------------+"
     ]
    }
   ],
   "source": [
    "movie_actors.select('category').distinct().show()"
   ]
  },
  {
   "cell_type": "markdown",
   "id": "59b33bb2",
   "metadata": {},
   "source": [
    "## Top Job Categories"
   ]
  },
  {
   "cell_type": "markdown",
   "id": "7f911dfc",
   "metadata": {},
   "source": [
    "Now let's find the top job categories in this dataset by rolling up categories."
   ]
  },
  {
   "cell_type": "markdown",
   "id": "1c0edd43",
   "metadata": {},
   "source": [
    "### Counts of Titles / Job Category"
   ]
  },
  {
   "cell_type": "markdown",
   "id": "001e3f3c",
   "metadata": {},
   "source": [
    "The expected output should be:\n",
    "\n",
    "| category | count |\n",
    "|-------------|------------|\n",
    "| a     | 15         |\n",
    "| b     | 2          |\n",
    "| c     | 45          |\n",
    "\n",
    "Or something to that effect."
   ]
  },
  {
   "cell_type": "code",
   "execution_count": 28,
   "id": "d6f8d689",
   "metadata": {
    "execution": {
     "iopub.execute_input": "2023-12-01T08:58:24.902805Z",
     "iopub.status.busy": "2023-12-01T08:58:24.902393Z",
     "iopub.status.idle": "2023-12-01T08:58:50.227166Z",
     "shell.execute_reply": "2023-12-01T08:58:50.226352Z",
     "shell.execute_reply.started": "2023-12-01T08:58:24.902764Z"
    },
    "tags": []
   },
   "outputs": [
    {
     "data": {
      "application/vnd.jupyter.widget-view+json": {
       "model_id": "51267c9eeb19449881e5fecba4a45c1f",
       "version_major": 2,
       "version_minor": 0
      },
      "text/plain": [
       "VBox()"
      ]
     },
     "metadata": {},
     "output_type": "display_data"
    },
    {
     "data": {
      "application/vnd.jupyter.widget-view+json": {
       "model_id": "",
       "version_major": 2,
       "version_minor": 0
      },
      "text/plain": [
       "FloatProgress(value=0.0, bar_style='info', description='Progress:', layout=Layout(height='25px', width='50%'),…"
      ]
     },
     "metadata": {},
     "output_type": "display_data"
    },
    {
     "name": "stdout",
     "output_type": "stream",
     "text": [
      "+-------------------+-------+\n",
      "|           category|  count|\n",
      "+-------------------+-------+\n",
      "|            actress|6325097|\n",
      "|           producer|2197866|\n",
      "|production_designer| 285924|\n",
      "|             writer|4811596|\n",
      "|              actor|8493701|\n",
      "|    cinematographer|1300404|\n",
      "|      archive_sound|   2143|\n",
      "|    archive_footage| 209035|\n",
      "|               self|6153089|\n",
      "|             editor|1197669|\n",
      "|           composer|1313187|\n",
      "|           director|4179106|\n",
      "+-------------------+-------+"
     ]
    }
   ],
   "source": [
    "category_count = movie_actors.groupBy(\"category\").count()\n",
    "category_count.show()"
   ]
  },
  {
   "cell_type": "markdown",
   "id": "96ce95b2",
   "metadata": {},
   "source": [
    "### Bar Chart of Top Job Categories\n",
    "\n",
    "With this data available, let us now build a barchart of the top 5 categories. \n",
    "\n",
    "**HINT**: don't forget about the matplotlib magic!\n",
    "\n",
    "```\n",
    "%matplot plt\n",
    "```"
   ]
  },
  {
   "cell_type": "code",
   "execution_count": 29,
   "id": "0af53ede",
   "metadata": {
    "execution": {
     "iopub.execute_input": "2023-12-01T08:58:50.228347Z",
     "iopub.status.busy": "2023-12-01T08:58:50.228120Z",
     "iopub.status.idle": "2023-12-01T08:59:13.535812Z",
     "shell.execute_reply": "2023-12-01T08:59:13.535088Z",
     "shell.execute_reply.started": "2023-12-01T08:58:50.228325Z"
    },
    "scrolled": true,
    "tags": []
   },
   "outputs": [
    {
     "data": {
      "application/vnd.jupyter.widget-view+json": {
       "model_id": "cdac1c676f194ce39beb7ef0b9fb1632",
       "version_major": 2,
       "version_minor": 0
      },
      "text/plain": [
       "VBox()"
      ]
     },
     "metadata": {},
     "output_type": "display_data"
    },
    {
     "data": {
      "application/vnd.jupyter.widget-view+json": {
       "model_id": "",
       "version_major": 2,
       "version_minor": 0
      },
      "text/plain": [
       "FloatProgress(value=0.0, bar_style='info', description='Progress:', layout=Layout(height='25px', width='50%'),…"
      ]
     },
     "metadata": {},
     "output_type": "display_data"
    },
    {
     "name": "stdout",
     "output_type": "stream",
     "text": [
      "+-------------------+-------+\n",
      "|           category|  count|\n",
      "+-------------------+-------+\n",
      "|              actor|8493701|\n",
      "|            actress|6325097|\n",
      "|               self|6153089|\n",
      "|             writer|4811596|\n",
      "|           director|4179106|\n",
      "|           producer|2197866|\n",
      "|           composer|1313187|\n",
      "|    cinematographer|1300404|\n",
      "|             editor|1197669|\n",
      "|production_designer| 285924|\n",
      "|    archive_footage| 209035|\n",
      "|      archive_sound|   2143|\n",
      "+-------------------+-------+"
     ]
    }
   ],
   "source": [
    "sorted_category_count = category_count.sort(col('count').desc())\n",
    "sorted_category_count.show()"
   ]
  },
  {
   "cell_type": "code",
   "execution_count": 30,
   "id": "f397416a",
   "metadata": {
    "execution": {
     "iopub.execute_input": "2023-12-01T08:59:13.537015Z",
     "iopub.status.busy": "2023-12-01T08:59:13.536790Z",
     "iopub.status.idle": "2023-12-01T08:59:36.848969Z",
     "shell.execute_reply": "2023-12-01T08:59:36.848210Z",
     "shell.execute_reply.started": "2023-12-01T08:59:13.536993Z"
    },
    "scrolled": true,
    "tags": []
   },
   "outputs": [
    {
     "data": {
      "application/vnd.jupyter.widget-view+json": {
       "model_id": "d6c36497c7a84f70a03efa172efb22ec",
       "version_major": 2,
       "version_minor": 0
      },
      "text/plain": [
       "VBox()"
      ]
     },
     "metadata": {},
     "output_type": "display_data"
    },
    {
     "data": {
      "application/vnd.jupyter.widget-view+json": {
       "model_id": "",
       "version_major": 2,
       "version_minor": 0
      },
      "text/plain": [
       "FloatProgress(value=0.0, bar_style='info', description='Progress:', layout=Layout(height='25px', width='50%'),…"
      ]
     },
     "metadata": {},
     "output_type": "display_data"
    },
    {
     "data": {
      "image/png": "[encoded data removed]",
      "text/plain": [
       "<IPython.core.display.Image object>"
      ]
     },
     "metadata": {},
     "output_type": "display_data"
    }
   ],
   "source": [
    "#Extracting only the Top 5\n",
    "top5_categories = sorted_category_count.limit(5)\n",
    "\n",
    "# Converting Spark DataFrame into a Pandas DataFrame\n",
    "pd_top5_categories = top5_categories.toPandas()\n",
    "\n",
    "# Plotting\n",
    "plt.figure(figsize=(8, 6))\n",
    "plt.bar(pd_top5_categories['category'], pd_top5_categories['count'], color='orange')\n",
    "plt.xlabel('Job Categories')\n",
    "plt.ylabel('Count')\n",
    "plt.title('Top Job Categories')\n",
    "plt.legend(['count'])\n",
    "plt.xticks(rotation=25)\n",
    "\n",
    "# Y-axis from 3 to 9 \n",
    "ax = plt.gca() \n",
    "ax.set_ylim(3e6, 9e6)\n",
    "\n",
    "%matplot plt"
   ]
  },
  {
   "cell_type": "markdown",
   "id": "c5a31583",
   "metadata": {
    "tags": []
   },
   "source": [
    "# PART 4 - Answer to the following questions:"
   ]
  },
  {
   "cell_type": "markdown",
   "id": "76917365",
   "metadata": {},
   "source": [
    "## 1) Find all the \"movies\" featuring \"Johnny Depp\" and \"Helena Bonham Carter\"."
   ]
  },
  {
   "cell_type": "markdown",
   "id": "c4600ef2",
   "metadata": {},
   "source": [
    "First join actors, genres, and movie actors on each other"
   ]
  },
  {
   "cell_type": "code",
   "execution_count": 31,
   "id": "97f176d8-b541-4447-b7e6-98dde447a293",
   "metadata": {
    "execution": {
     "iopub.execute_input": "2023-12-01T08:59:36.850517Z",
     "iopub.status.busy": "2023-12-01T08:59:36.850190Z",
     "iopub.status.idle": "2023-12-01T09:00:38.270844Z",
     "shell.execute_reply": "2023-12-01T09:00:38.270169Z",
     "shell.execute_reply.started": "2023-12-01T08:59:36.850482Z"
    },
    "tags": []
   },
   "outputs": [
    {
     "data": {
      "application/vnd.jupyter.widget-view+json": {
       "model_id": "30e185e676a94395aa8d1ae51f567a6e",
       "version_major": 2,
       "version_minor": 0
      },
      "text/plain": [
       "VBox()"
      ]
     },
     "metadata": {},
     "output_type": "display_data"
    },
    {
     "data": {
      "application/vnd.jupyter.widget-view+json": {
       "model_id": "",
       "version_major": 2,
       "version_minor": 0
      },
      "text/plain": [
       "FloatProgress(value=0.0, bar_style='info', description='Progress:', layout=Layout(height='25px', width='50%'),…"
      ]
     },
     "metadata": {},
     "output_type": "display_data"
    },
    {
     "name": "stdout",
     "output_type": "stream",
     "text": [
      "+----------------------------------------------+\n",
      "|primaryTitle                                  |\n",
      "+----------------------------------------------+\n",
      "|Dark Shadows                                  |\n",
      "|Sweeney Todd: The Demon Barber of Fleet Street|\n",
      "|Alice Through the Looking Glass               |\n",
      "|Alice in Wonderland                           |\n",
      "|Corpse Bride                                  |\n",
      "|Charlie and the Chocolate Factory             |\n",
      "+----------------------------------------------+"
     ]
    }
   ],
   "source": [
    "#Renaming columns on which join is operated to avoid duplicates\n",
    "movie_actors_renamed = movie_actors.withColumnRenamed('nconst', 'nconst_movie_actors') \\\n",
    "                                   .withColumnRenamed('tconst', 'tconst_movie_actors')\n",
    "\n",
    "# Joining actors, genres, and movie_actors on each other\n",
    "joined_df = actors.join(movie_actors_renamed, actors.nconst == movie_actors_renamed.nconst_movie_actors) \\\n",
    "                     .join(genres, genres.tconst == movie_actors_renamed.tconst_movie_actors)\n",
    "\n",
    "# Filtering for Johnny Depp movies\n",
    "depp_movies = joined_df.filter(\n",
    "    (col('primaryName') == 'Johnny Depp') & (col('titleType') == 'movie')\n",
    ")\n",
    "\n",
    "# Filtering for Helena Bonham Carter movies\n",
    "bonham_carter_movies = joined_df.filter(\n",
    "    (col('primaryName') == 'Helena Bonham Carter') & (col('titleType') == 'movie')\n",
    ")\n",
    "\n",
    "# Joining the DataFrames to find movies where both actors were present\n",
    "depp_bonham_carter_movies = depp_movies.join(\n",
    "    bonham_carter_movies, 'tconst', 'inner'\n",
    ")\n",
    "\n",
    "# Showing the result\n",
    "depp_bonham_carter_movies = depp_bonham_carter_movies.select(depp_movies.primaryTitle)\n",
    "depp_bonham_carter_movies.show(truncate=False)"
   ]
  },
  {
   "cell_type": "markdown",
   "id": "39452206",
   "metadata": {
    "tags": []
   },
   "source": [
    "## 2) Find all the \"movies\" featuring \"Brad Pitt\" after 2010."
   ]
  },
  {
   "cell_type": "code",
   "execution_count": 32,
   "id": "f4622bca-73a0-4301-92ea-66cdee358bd1",
   "metadata": {
    "execution": {
     "iopub.execute_input": "2023-12-01T09:00:38.272005Z",
     "iopub.status.busy": "2023-12-01T09:00:38.271773Z",
     "iopub.status.idle": "2023-12-01T09:01:23.637499Z",
     "shell.execute_reply": "2023-12-01T09:01:23.636710Z",
     "shell.execute_reply.started": "2023-12-01T09:00:38.271982Z"
    },
    "tags": []
   },
   "outputs": [
    {
     "data": {
      "application/vnd.jupyter.widget-view+json": {
       "model_id": "a2b3add0418c4f9399d82b9f21e6264e",
       "version_major": 2,
       "version_minor": 0
      },
      "text/plain": [
       "VBox()"
      ]
     },
     "metadata": {},
     "output_type": "display_data"
    },
    {
     "data": {
      "application/vnd.jupyter.widget-view+json": {
       "model_id": "",
       "version_major": 2,
       "version_minor": 0
      },
      "text/plain": [
       "FloatProgress(value=0.0, bar_style='info', description='Progress:', layout=Layout(height='25px', width='50%'),…"
      ]
     },
     "metadata": {},
     "output_type": "display_data"
    },
    {
     "name": "stdout",
     "output_type": "stream",
     "text": [
      "+---------------------------------+---------+\n",
      "|primaryTitle                     |startYear|\n",
      "+---------------------------------+---------+\n",
      "|Babylon                          |2021     |\n",
      "|Irresistible                     |2020     |\n",
      "|Kajillionaire                    |2020     |\n",
      "|The King                         |2019     |\n",
      "|Ad Astra                         |2019     |\n",
      "|Once Upon a Time ... in Hollywood|2019     |\n",
      "|Vice                             |2018     |\n",
      "|War Machine                      |2017     |\n",
      "|Voyage of Time: Life's Journey   |2016     |\n",
      "|Allied                           |2016     |\n",
      "|By the Sea                       |2015     |\n",
      "|The Big Short                    |2015     |\n",
      "|Hitting the Apex                 |2015     |\n",
      "|Fury                             |2014     |\n",
      "|World War Z                      |2013     |\n",
      "|Kick-Ass 2                       |2013     |\n",
      "|12 Years a Slave                 |2013     |\n",
      "|Killing Them Softly              |2012     |\n",
      "|The Tree of Life                 |2011     |\n",
      "|Moneyball                        |2011     |\n",
      "+---------------------------------+---------+"
     ]
    }
   ],
   "source": [
    "# Storing table for this Spark session\n",
    "joined_df.createOrReplaceTempView('joined_df')\n",
    "\n",
    "# Executing SQL query\n",
    "joined_df_2 = spark.sql(\"\"\"\n",
    "SELECT primaryTitle, startYear\n",
    "FROM joined_df \n",
    "WHERE titleType = 'movie'\n",
    "AND primaryName = 'Brad Pitt'\n",
    "AND startYear > 2010\n",
    "ORDER BY startYear DESC\n",
    "\"\"\")\n",
    "\n",
    "# Showing the results\n",
    "joined_df_2.show(truncate=False)"
   ]
  },
  {
   "cell_type": "markdown",
   "id": "67fc41d2",
   "metadata": {},
   "source": [
    "## 3) What is the number of \"movies\" \"acted\" by \"Zendaya\" per year?"
   ]
  },
  {
   "cell_type": "code",
   "execution_count": 33,
   "id": "c605ce7b",
   "metadata": {
    "execution": {
     "iopub.execute_input": "2023-12-01T09:01:23.638859Z",
     "iopub.status.busy": "2023-12-01T09:01:23.638612Z",
     "iopub.status.idle": "2023-12-01T09:02:11.024884Z",
     "shell.execute_reply": "2023-12-01T09:02:11.024012Z",
     "shell.execute_reply.started": "2023-12-01T09:01:23.638835Z"
    },
    "tags": []
   },
   "outputs": [
    {
     "data": {
      "application/vnd.jupyter.widget-view+json": {
       "model_id": "0adc9f8f7c9444eb9cb731464cf612ac",
       "version_major": 2,
       "version_minor": 0
      },
      "text/plain": [
       "VBox()"
      ]
     },
     "metadata": {},
     "output_type": "display_data"
    },
    {
     "data": {
      "application/vnd.jupyter.widget-view+json": {
       "model_id": "",
       "version_major": 2,
       "version_minor": 0
      },
      "text/plain": [
       "FloatProgress(value=0.0, bar_style='info', description='Progress:', layout=Layout(height='25px', width='50%'),…"
      ]
     },
     "metadata": {},
     "output_type": "display_data"
    },
    {
     "name": "stdout",
     "output_type": "stream",
     "text": [
      "+---------+-----+\n",
      "|startYear|count|\n",
      "+---------+-----+\n",
      "|2020     |1    |\n",
      "|2018     |2    |\n",
      "|2017     |1    |\n",
      "+---------+-----+"
     ]
    }
   ],
   "source": [
    "# Executing the SQL query\n",
    "joined_df_3 = spark.sql(\"\"\"\n",
    "SELECT startYear, COUNT(*) as count\n",
    "FROM joined_df \n",
    "WHERE titleType = 'movie'\n",
    "AND primaryName LIKE '%Zendaya%'\n",
    "AND startYear <> '\\\\\\\\N'\n",
    "GROUP BY startYear\n",
    "ORDER BY startYear DESC\n",
    "\"\"\")\n",
    "\n",
    "# Showing the results\n",
    "joined_df_3.show(truncate=False)"
   ]
  },
  {
   "cell_type": "markdown",
   "id": "b3fe5091",
   "metadata": {},
   "source": [
    "## 4) What are the \"movies\" by average rating greater than \"9.7\" and released in \"2019\"?"
   ]
  },
  {
   "cell_type": "code",
   "execution_count": 34,
   "id": "3897fdf4-1849-40b7-8cb2-766914861e9a",
   "metadata": {
    "execution": {
     "iopub.execute_input": "2023-12-01T09:02:11.026556Z",
     "iopub.status.busy": "2023-12-01T09:02:11.026230Z",
     "iopub.status.idle": "2023-12-01T09:02:18.311865Z",
     "shell.execute_reply": "2023-12-01T09:02:18.311034Z",
     "shell.execute_reply.started": "2023-12-01T09:02:11.026521Z"
    },
    "tags": []
   },
   "outputs": [
    {
     "data": {
      "application/vnd.jupyter.widget-view+json": {
       "model_id": "ff3c7cb0297042af9fa60c6b965ba2f6",
       "version_major": 2,
       "version_minor": 0
      },
      "text/plain": [
       "VBox()"
      ]
     },
     "metadata": {},
     "output_type": "display_data"
    },
    {
     "data": {
      "application/vnd.jupyter.widget-view+json": {
       "model_id": "",
       "version_major": 2,
       "version_minor": 0
      },
      "text/plain": [
       "FloatProgress(value=0.0, bar_style='info', description='Progress:', layout=Layout(height='25px', width='50%'),…"
      ]
     },
     "metadata": {},
     "output_type": "display_data"
    },
    {
     "name": "stdout",
     "output_type": "stream",
     "text": [
      "+-------------------------------------------------+-------------+\n",
      "|PrimaryTitle                                     |averageRating|\n",
      "+-------------------------------------------------+-------------+\n",
      "|A Grunt's Life                                   |10.0         |\n",
      "|Kirket                                           |10.0         |\n",
      "|Our Scripted Life                                |10.0         |\n",
      "|The Twilight Zone: A 60th Anniversary Celebration|10.0         |\n",
      "|Bu Can Var Oldugu Sürece                         |10.0         |\n",
      "|L'Enfant Terrible                                |10.0         |\n",
      "|The Butcher Baronet                              |10.0         |\n",
      "|A Medicine for the Mind                          |10.0         |\n",
      "|Love in Kilnerry                                 |10.0         |\n",
      "|Superhombre                                      |9.9          |\n",
      "|Puritan: All of Life to The Glory of God         |9.9          |\n",
      "|The Cardinal                                     |9.9          |\n",
      "|Square One                                       |9.8          |\n",
      "|Kamen Rider Zi-O: Over Quartzer                  |9.8          |\n",
      "|Time and motion                                  |9.8          |\n",
      "|We Shall Not Die Now                             |9.8          |\n",
      "|From Shock to Awe                                |9.8          |\n",
      "|Randhawa                                         |9.8          |\n",
      "|Gini Helida Kathe                                |9.8          |\n",
      "+-------------------------------------------------+-------------+"
     ]
    }
   ],
   "source": [
    "#Renaming columns on which join is operated to avoid duplicates\n",
    "movie_ratings_renamed = movie_ratings.withColumnRenamed('tconst', 'tconst_movie_ratings')\n",
    "\n",
    "# Joining genres and movie_ratings on each other\n",
    "genres_rating = genres.join(movie_ratings_renamed, genres.tconst == movie_ratings_renamed.tconst_movie_ratings)\n",
    "\n",
    "# Converting \"averageRating\" into a float for correct sorting\n",
    "from pyspark.sql.types import FloatType\n",
    "genres_rating = genres_rating.withColumn('averageRating', col('averageRating').cast(FloatType()))\n",
    "\n",
    "# Storing table for this Spark session\n",
    "genres_rating.createOrReplaceTempView('genres_rating')\n",
    "\n",
    "# Execute the SQL query\n",
    "joined_df_4 = spark.sql(\"\"\"\n",
    "SELECT PrimaryTitle, averageRating\n",
    "FROM genres_rating \n",
    "WHERE titleType = 'movie'\n",
    "AND startYear = 2019\n",
    "AND averageRating > 9.7\n",
    "ORDER BY averageRating DESC\n",
    "\"\"\")\n",
    "\n",
    "# Showing the results\n",
    "joined_df_4.show(truncate=False)"
   ]
  },
  {
   "cell_type": "markdown",
   "id": "a33b20a6",
   "metadata": {},
   "source": [
    "## Extra Credit - Analysis of your choice\n",
    "\n",
    "Try and analyze some interesting dimension to this data. You should specify the question in your Project2_Analysis.ipynb. \n",
    "\n",
    "You must join at least two datasets.\n"
   ]
  },
  {
   "cell_type": "markdown",
   "id": "ba5aa66a-b6b3-4144-bb3e-6207e60b1556",
   "metadata": {},
   "source": [
    "## 5) Which \"actors\" have acted in the greatest variety of \"genres\"?"
   ]
  },
  {
   "cell_type": "code",
   "execution_count": 35,
   "id": "eebbb4a3-9081-4eb0-a4d7-ac61ab147c33",
   "metadata": {
    "execution": {
     "iopub.execute_input": "2023-12-01T09:02:18.313132Z",
     "iopub.status.busy": "2023-12-01T09:02:18.312905Z",
     "iopub.status.idle": "2023-12-01T09:03:11.710701Z",
     "shell.execute_reply": "2023-12-01T09:03:11.709898Z",
     "shell.execute_reply.started": "2023-12-01T09:02:18.313110Z"
    },
    "tags": []
   },
   "outputs": [
    {
     "data": {
      "application/vnd.jupyter.widget-view+json": {
       "model_id": "35e50456cdec4a3ba02c3a8f73533055",
       "version_major": 2,
       "version_minor": 0
      },
      "text/plain": [
       "VBox()"
      ]
     },
     "metadata": {},
     "output_type": "display_data"
    },
    {
     "data": {
      "application/vnd.jupyter.widget-view+json": {
       "model_id": "",
       "version_major": 2,
       "version_minor": 0
      },
      "text/plain": [
       "FloatProgress(value=0.0, bar_style='info', description='Progress:', layout=Layout(height='25px', width='50%'),…"
      ]
     },
     "metadata": {},
     "output_type": "display_data"
    },
    {
     "name": "stdout",
     "output_type": "stream",
     "text": [
      "+------------------+--------------------+\n",
      "|primaryName       |distincttGenresCount|\n",
      "+------------------+--------------------+\n",
      "|Eric Roberts      |93                  |\n",
      "|Mohanlal          |69                  |\n",
      "|Pran              |67                  |\n",
      "|Luis Aguilar      |67                  |\n",
      "|Rajesh Khanna     |64                  |\n",
      "|Ashok Kumar       |64                  |\n",
      "|Dharmendra        |64                  |\n",
      "|Anupam Kher       |64                  |\n",
      "|Amitabh Bachchan  |64                  |\n",
      "|Christopher Lee   |63                  |\n",
      "|Franco Nero       |63                  |\n",
      "|Boris Karloff     |62                  |\n",
      "|James Mason       |62                  |\n",
      "|Malcolm McDowell  |61                  |\n",
      "|Mammootty         |60                  |\n",
      "|Prem Chopra       |60                  |\n",
      "|Mithun Chakraborty|60                  |\n",
      "|Michael Madsen    |59                  |\n",
      "|Tom Sizemore      |59                  |\n",
      "|Vincent Price     |59                  |\n",
      "+------------------+--------------------+\n",
      "only showing top 20 rows"
     ]
    }
   ],
   "source": [
    "# Executing SQL query\n",
    "joined_df_5 = spark.sql(\"\"\"\n",
    "SELECT primaryName, COUNT(DISTINCT genres) AS distincttGenresCount\n",
    "FROM joined_df \n",
    "WHERE titleType = 'movie'\n",
    "AND category = 'actor'\n",
    "GROUP BY primaryName\n",
    "ORDER BY distincttGenresCount DESC\n",
    "\"\"\")\n",
    "\n",
    "# Showing the results\n",
    "joined_df_5.show(truncate=False)\n"
   ]
  },
  {
   "cell_type": "markdown",
   "id": "a3c4007c-4714-4757-b3d8-f000beec66bc",
   "metadata": {},
   "source": [
    "## 6 ) Who are the \"directors\" with the highest \"average ratings\" among all the \"movies\" produced? To be considerend in the ranking, directors must have produced at least 5 movies"
   ]
  },
  {
   "cell_type": "code",
   "execution_count": 36,
   "id": "630efc7b-057a-4df2-be60-79d648db5ece",
   "metadata": {
    "execution": {
     "iopub.execute_input": "2023-12-01T09:03:11.712188Z",
     "iopub.status.busy": "2023-12-01T09:03:11.711827Z",
     "iopub.status.idle": "2023-12-01T09:04:05.181877Z",
     "shell.execute_reply": "2023-12-01T09:04:05.181005Z",
     "shell.execute_reply.started": "2023-12-01T09:03:11.712152Z"
    },
    "tags": []
   },
   "outputs": [
    {
     "data": {
      "application/vnd.jupyter.widget-view+json": {
       "model_id": "dcf4ba0ee7a14bd987d78a841e9a5492",
       "version_major": 2,
       "version_minor": 0
      },
      "text/plain": [
       "VBox()"
      ]
     },
     "metadata": {},
     "output_type": "display_data"
    },
    {
     "data": {
      "application/vnd.jupyter.widget-view+json": {
       "model_id": "",
       "version_major": 2,
       "version_minor": 0
      },
      "text/plain": [
       "FloatProgress(value=0.0, bar_style='info', description='Progress:', layout=Layout(height='25px', width='50%'),…"
      ]
     },
     "metadata": {},
     "output_type": "display_data"
    },
    {
     "name": "stdout",
     "output_type": "stream",
     "text": [
      "+------------------+---------+\n",
      "|primaryName       |AvgRating|\n",
      "+------------------+---------+\n",
      "|Cathy Jones       |8.77     |\n",
      "|Simran S Kaler    |8.7      |\n",
      "|Tareque Masud     |8.57     |\n",
      "|Jacques Holender  |8.52     |\n",
      "|Carlos Nader      |8.5      |\n",
      "|Scott Allen Nollen|8.45     |\n",
      "|Zahir Raihan      |8.4      |\n",
      "|Dick Carruthers   |8.39     |\n",
      "|Mattias Löw       |8.37     |\n",
      "|Anand Patwardhan  |8.31     |\n",
      "|Barbara Junge     |8.31     |\n",
      "|Dieter Köster     |8.3      |\n",
      "|Federico Micali   |8.28     |\n",
      "|Siddalingaiah     |8.27     |\n",
      "|Barry Greenwald   |8.27     |\n",
      "|Robin Lough       |8.27     |\n",
      "|James E. Motluk   |8.27     |\n",
      "|Goderdzi Chokheli |8.26     |\n",
      "|Christopher Nolan |8.25     |\n",
      "|Joe L. Roberts    |8.24     |\n",
      "+------------------+---------+\n",
      "only showing top 20 rows"
     ]
    }
   ],
   "source": [
    "#Joining all the dataframes\n",
    "all_joined = joined_df.join(movie_ratings_renamed, joined_df.tconst == movie_ratings_renamed.tconst_movie_ratings)\n",
    "\n",
    "\n",
    "# Storing table for this Spark session\n",
    "all_joined.createOrReplaceTempView('all_joined')\n",
    "\n",
    "\n",
    "# Execute the SQL query\n",
    "joined_df_6 = spark.sql(\"\"\"\n",
    "SELECT primaryName, CAST(format_number(AVG(averageRating), 2) AS FLOAT) AS AvgRating\n",
    "FROM all_joined\n",
    "WHERE titleType = 'movie'\n",
    "AND category = 'director'\n",
    "GROUP BY primaryName\n",
    "HAVING COUNT(DISTINCT PrimaryTitle) > 5\n",
    "ORDER BY AvgRating DESC\n",
    "\"\"\")\n",
    "\n",
    "# Showing the results\n",
    "joined_df_6.show(truncate=False)\n"
   ]
  },
  {
   "cell_type": "markdown",
   "id": "5e4f0ff7-9c89-4cac-be80-845a9c374b13",
   "metadata": {},
   "source": [
    "## 7) Which \"actor-director\" pairs have worked together on the most \"movies\" from 1980?"
   ]
  },
  {
   "cell_type": "code",
   "execution_count": null,
   "id": "7e01e99f-fb05-448f-a493-90809351abe3",
   "metadata": {
    "execution": {
     "iopub.execute_input": "2023-12-01T09:04:05.183193Z",
     "iopub.status.busy": "2023-12-01T09:04:05.182951Z"
    }
   },
   "outputs": [
    {
     "data": {
      "application/vnd.jupyter.widget-view+json": {
       "model_id": "ae2e3fcdaefb4f2dab0fcfbf31afef59",
       "version_major": 2,
       "version_minor": 0
      },
      "text/plain": [
       "VBox()"
      ]
     },
     "metadata": {},
     "output_type": "display_data"
    },
    {
     "data": {
      "application/vnd.jupyter.widget-view+json": {
       "model_id": "4735e2db5f964116bdcbc7113d278f25",
       "version_major": 2,
       "version_minor": 0
      },
      "text/plain": [
       "FloatProgress(value=0.0, bar_style='info', description='Progress:', layout=Layout(height='25px', width='50%'),…"
      ]
     },
     "metadata": {},
     "output_type": "display_data"
    }
   ],
   "source": [
    "# Filtering for Director movies\n",
    "director_movies = joined_df.filter((col('category') == \"director\") & (col(\"titleType\") == \"movie\") & (col(\"startYear\") > 1980))\n",
    "# Renaming primaryName as directorName\n",
    "director_movies = director_movies.withColumnRenamed('primaryName', 'directorName')\n",
    "\n",
    "# Filtering for Director movies\n",
    "actors_movies = joined_df.filter((col('category') == \"actor\") & (col(\"titleType\") == \"movie\") & (col(\"startYear\") > 1980))\n",
    "# Renaming primaryName as actorName\n",
    "actors_movies = actors_movies.withColumnRenamed('primaryName', 'actorName')\n",
    "\n",
    "#Renaming columns on which join is operated to avoid duplicates\n",
    "actors_movies_renamed = actors_movies.withColumnRenamed('tconst', 'tconst2')\n",
    "\n",
    "# Joining the DataFrames on the 'tconst' column\n",
    "collaborations = director_movies.join(actors_movies_renamed, director_movies.tconst == actors_movies_renamed.tconst2)\n",
    "\n",
    "# Grouping by directorName and actorName, counting the collaborations\n",
    "collaboration_counts = collaborations.groupBy(\"directorName\", \"actorName\").count()\n",
    "\n",
    "# Ordering by count in descending order\n",
    "most_collaborations = collaboration_counts.orderBy(col(\"count\").desc())\n",
    "\n",
    "# Show the top pairs\n",
    "most_collaborations.show(100)\n"
   ]
  },
  {
   "cell_type": "code",
   "execution_count": null,
   "id": "8b0fe643-0422-4ebe-8702-f342db99f579",
   "metadata": {},
   "outputs": [],
   "source": []
  }
 ],
 "metadata": {
  "kernelspec": {
   "display_name": "PySpark",
   "language": "python",
   "name": "pysparkkernel"
  },
  "language_info": {
   "codemirror_mode": {
    "name": "python",
    "version": 3
   },
   "file_extension": ".py",
   "mimetype": "text/x-python",
   "name": "pyspark",
   "pygments_lexer": "python3"
  }
 },
 "nbformat": 4,
 "nbformat_minor": 5
}
